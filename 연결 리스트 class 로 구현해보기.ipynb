{
 "cells": [
  {
   "cell_type": "code",
   "execution_count": 1,
   "metadata": {},
   "outputs": [],
   "source": [
    "class Node: \n",
    "    '''\n",
    "    빈 노드를 생성시키는 생성자\n",
    "    '''\n",
    "    \n",
    "    def __init__(self,data):\n",
    "        \n",
    "        self.data = data\n",
    "        self.next = None "
   ]
  },
  {
   "cell_type": "code",
   "execution_count": 2,
   "metadata": {},
   "outputs": [],
   "source": [
    "class LinkedList:\n",
    "    \n",
    "    def __init__(self):\n",
    "        \n",
    "        self.head = None\n",
    "        self.next = None\n",
    "        self.size = 0 \n",
    "        \n",
    "    def pushfront(self,data):\n",
    "        \n",
    "        new_node = Node(data) # push 할 데이터를 가지고 새로운 노드 생성 \n",
    "        \n",
    "        if self.size == 0 : # LinkedList 가 빈 list 라면 push 된 데이터를 head 로 \n",
    "            self.head = new_node\n",
    "        else:\n",
    "            new_node.next = self.head # new_node 의 next 값에 현재의 head 값을 집어 넣음 \n",
    "                                    # 그렇게 되면 new_node -> head -> None 형태\n",
    "            self.head = new_node # 그리고 현재의 head 를 new_node 로 설정 \n",
    "        self.size += 1\n",
    "        \n",
    "    def pushback(self,data):\n",
    "        \n",
    "        new_node = Node(data) # 빈 노드 생성\n",
    "        \n",
    "        if self.size == 0:\n",
    "            self.head = new_node # 빈 사이즈라면 new_node 를 head로 \n",
    "        else:\n",
    "            head = self.head # 비어있지 않다면 마지막 node를 찾아야 함 \n",
    "            while head.next != None: # 마지막 node 의 next 가 None 일 때 까지 반복 \n",
    "                head = head.next # self.head 에서 부터 한 칸씩 앞으로 전진 \n",
    "                                # 만약 head.next 가 None 이라면 마지막 node 가 head 변수에 저장 될 것이고 반복문은 끝날 것임 \n",
    "            head.next = new_node # 마지막 node 의 next 값을 new_node 로 저장 \n",
    "        \n",
    "        self.size += 1\n",
    "        \n",
    "        \n",
    "    def pop_back(self):\n",
    "        \n",
    "        '''\n",
    "        가장 마지막 node 를 제거하는 method \n",
    "        '''\n",
    "        # 우선 마지막 node 까지 탐색해야 하며, 마지막 node 이전까지의 객체를 prev 라는 변수에 담아줘야함\n",
    "        \n",
    "        prev,tail = None,self.head \n",
    "        \n",
    "        while tail.next: # tail 의 next 가 node 일 때 까지, 즉 마지막 node 까지 탐색 \n",
    "            prev = tail \n",
    "            tail = tail.next \n",
    "        # 반복문이 끝나면 prev 는 마지막 node 의 전 객체임\n",
    "        # 현재 prev의 next 는 tail (마지막 node)를 가르키고 있기에 next 를 None 으로 설정  \n",
    "        prev.next = None\n",
    "        del tail \n",
    "        self.size -= 1 \n",
    "        \n",
    "    def pop_front(self):\n",
    "        '''\n",
    "        가장 앞의 node 를 제거하는 method\n",
    "        '''\n",
    "        # self.head 부분을 삭제하고, self.head 부분의 앞 객체를 head 로 설정해야 함\n",
    "        \n",
    "        value = self.head # 현재 head 객체를 value 에 할당 \n",
    "        \n",
    "        self.head = value.next # 현재 head 값을 두 번째 객체로 설정\n",
    "        \n",
    "        del value \n",
    "        \n",
    "        self.size -= 1\n",
    "        \n",
    "    def insert_after(self,target,data): \n",
    "        ''''\n",
    "        원하는 객체 이후에 새로운 node 를 추가하는 method\n",
    "        '''\n",
    "        new_node = Node(data) # 새로운 노드 생성 \n",
    "        # 원하는 target 까지 탐색\n",
    "        value = self.head # head 부터 \n",
    "        while value != None: # target 을 만날 때 까지 한칸씩 전진\n",
    "            value = value.next \n",
    "            if value.data == target: # value.data 로 찾아야 한다. value 는 class 객체이고, calss.data 가 data 이다. \n",
    "                new_node.next = value.next # 현재 target node 의 next 값을 new_node 의 next 에 할당\n",
    "                value.next = new_node # target node 의 next 값에 new_node 할당\n",
    "                break                    \n",
    "        \n",
    "        self.size += 1\n",
    "        \n",
    "    def search(self,target):\n",
    "        '''\n",
    "        target 값을 가진 node 가 있나 없나 탐색 \n",
    "        '''\n",
    "        current = self.head \n",
    "        \n",
    "        while current != None:\n",
    "            if current.data == target: \n",
    "                print('존재해요!')\n",
    "                return current\n",
    "                break\n",
    "            current = current.next\n",
    "        print('없어요!') \n",
    "        return None # 만약 iteration 동안 target 값을 찾지 못한다면 None 값을 return \n",
    "                \n",
    "    def __iter__(self): #generator 생성 \n",
    "        '''\n",
    "        해당 객체를 generator 로 사용 할 수 있도록 __iterator__ 로 생성 \n",
    "        iterator 로서 yield 값을 return 시킴 \n",
    "        '''\n",
    "        current = self.head \n",
    "        \n",
    "        while current != None:\n",
    "            yield current \n",
    "            current = current.next \n",
    "            \n",
    "            \n",
    "    def display(self):\n",
    "        \n",
    "        current = self.head \n",
    "        \n",
    "        while current != None: # 마지막 node 까지 반복 \n",
    "            print(current.data, end = ' -> ') # node 의 data 를 pritn 하게 \n",
    "            current = current.next # 반복문 동안 앞으로 전진 \n",
    "                                            # 마지막 nonde 에 등장하면 반복문이 끝나게 되고 마지막 node 까지 print 될 것임\n",
    "        print('None')"
   ]
  },
  {
   "attachments": {},
   "cell_type": "markdown",
   "metadata": {},
   "source": [
    "**Pushfront, Pushback**"
   ]
  },
  {
   "cell_type": "code",
   "execution_count": 3,
   "metadata": {},
   "outputs": [
    {
     "name": "stdout",
     "output_type": "stream",
     "text": [
      "1 -> 2 -> 3 -> None\n",
      "연결 리스트 사이즈는 :  3\n"
     ]
    }
   ],
   "source": [
    "A = LinkedList()\n",
    "\n",
    "A.pushfront(3)\n",
    "A.pushfront(2)\n",
    "A.pushfront(1)\n",
    "A.display()\n",
    "print('연결 리스트 사이즈는 : ',A.size)"
   ]
  },
  {
   "cell_type": "code",
   "execution_count": 4,
   "metadata": {},
   "outputs": [
    {
     "name": "stdout",
     "output_type": "stream",
     "text": [
      "1 -> 2 -> 3 -> 4 -> 5 -> 6 -> None\n",
      "연결 리스트 사이즈는 :  6\n"
     ]
    }
   ],
   "source": [
    "A.pushback(4)\n",
    "A.pushback(5)\n",
    "A.pushback(6)\n",
    "\n",
    "A.display()\n",
    "print('연결 리스트 사이즈는 : ',A.size)"
   ]
  },
  {
   "attachments": {},
   "cell_type": "markdown",
   "metadata": {},
   "source": [
    "**popfront, popback**"
   ]
  },
  {
   "cell_type": "code",
   "execution_count": 5,
   "metadata": {},
   "outputs": [
    {
     "name": "stdout",
     "output_type": "stream",
     "text": [
      "2 -> 3 -> 4 -> 5 -> 6 -> None\n",
      "연결 리스트 사이즈는 :  5\n"
     ]
    }
   ],
   "source": [
    "A.pop_front()\n",
    "A.display()\n",
    "print('연결 리스트 사이즈는 : ',A.size)"
   ]
  },
  {
   "cell_type": "code",
   "execution_count": 6,
   "metadata": {},
   "outputs": [
    {
     "name": "stdout",
     "output_type": "stream",
     "text": [
      "2 -> 3 -> 4 -> 5 -> None\n",
      "연결 리스트 사이즈는 :  4\n"
     ]
    }
   ],
   "source": [
    "A.pop_back()\n",
    "A.display()\n",
    "print('연결 리스트 사이즈는 : ',A.size)"
   ]
  },
  {
   "attachments": {},
   "cell_type": "markdown",
   "metadata": {},
   "source": [
    "**insert after**"
   ]
  },
  {
   "cell_type": "code",
   "execution_count": 7,
   "metadata": {},
   "outputs": [
    {
     "name": "stdout",
     "output_type": "stream",
     "text": [
      "2 -> 3 -> 4 -> 인서트 -> 5 -> None\n",
      "연결 리스트 사이즈는 :  5\n"
     ]
    }
   ],
   "source": [
    "A.insert_after(4,'인서트')\n",
    "A.display()\n",
    "print('연결 리스트 사이즈는 : ',A.size)"
   ]
  },
  {
   "attachments": {},
   "cell_type": "markdown",
   "metadata": {},
   "source": [
    "**Search**"
   ]
  },
  {
   "cell_type": "code",
   "execution_count": 8,
   "metadata": {},
   "outputs": [
    {
     "name": "stdout",
     "output_type": "stream",
     "text": [
      "존재해요!\n"
     ]
    }
   ],
   "source": [
    "node_3 = A.search(3)"
   ]
  },
  {
   "cell_type": "code",
   "execution_count": 9,
   "metadata": {},
   "outputs": [
    {
     "name": "stdout",
     "output_type": "stream",
     "text": [
      "없어요!\n"
     ]
    }
   ],
   "source": [
    "A.search('없는 value')"
   ]
  },
  {
   "attachments": {},
   "cell_type": "markdown",
   "metadata": {},
   "source": [
    "**iterator**"
   ]
  },
  {
   "cell_type": "code",
   "execution_count": 10,
   "metadata": {},
   "outputs": [
    {
     "name": "stdout",
     "output_type": "stream",
     "text": [
      "2,3,4,인서트,5,"
     ]
    }
   ],
   "source": [
    "# __iter__ 로 A 객체를 iteratable 한 객체로 생성\n",
    "# 만일 모든 객체의 반복이 끝나게 되면 StopIterator 라는 오류가 뜨는데 해당 오류가 뜨면 자동적으로 반복문이 끝난다.\n",
    "for x in A:\n",
    "    print(x.data, end = ',')"
   ]
  },
  {
   "attachments": {},
   "cell_type": "markdown",
   "metadata": {},
   "source": [
    "# **단일 연결리스트로 요세푸스 문제 풀기**"
   ]
  },
  {
   "cell_type": "code",
   "execution_count": 153,
   "metadata": {},
   "outputs": [],
   "source": [
    "class SignleLinkedList:\n",
    "    '''\n",
    "    요세푸스 문제를 풀기 위해 필요한 method \n",
    "    \n",
    "    받은 list 값들을 연결 리스트 형태로 push 하기 위한 pushback \n",
    "    \n",
    "    조건에 따라 맨 head vlaue 를 remove 하기 위한 popfront\n",
    "    '''\n",
    "    class Node:\n",
    "        \n",
    "        def __init__(self,data, next = None):\n",
    "            \n",
    "            self.data = data \n",
    "            self.next = next\n",
    "            \n",
    "    def __init__(self):\n",
    "        \n",
    "        self.data = None\n",
    "        self.size = 0 \n",
    "        \n",
    "    def __len__(self):\n",
    "        return self.size\n",
    "        \n",
    "    def pushback(self,data):\n",
    "        new_node = self.Node(data)\n",
    "        if self.size == 0:\n",
    "            self.head = new_node\n",
    "        else:\n",
    "            # 마지막 node 까지 탐색\n",
    "            head = self.head \n",
    "            \n",
    "            while head.next != None:\n",
    "                # head.next 가 None 일 때 까지 전진 \n",
    "                head = head.next\n",
    "            # 반복문이 끝나면 head 는 마지막 value 값이 저장되어 있을거임  \n",
    "            # 해당 next 값에 새로운 node 를 push\n",
    "            head.next = new_node\n",
    "            \n",
    "        self.size += 1\n",
    "        \n",
    "    def popfront(self):\n",
    "        \n",
    "        if self.size == 0:\n",
    "            return None\n",
    "        else:\n",
    "            head = self.head.data\n",
    "            self.head = self.head.next\n",
    "            self.size -= 1\n",
    "            return head\n",
    "        \n",
    "        \n",
    "    def display(self):\n",
    "        \n",
    "        current = self.head \n",
    "        \n",
    "        while current != None: # 마지막 node 까지 반복 \n",
    "            print(current.data, end = ' -> ') # node 의 data 를 pritn 하게 \n",
    "            current = current.next # 반복문 동안 앞으로 전진 \n",
    "                                            # 마지막 nonde 에 등장하면 반복문이 끝나게 되고 마지막 node 까지 print 될 것임\n",
    "        print('None')"
   ]
  },
  {
   "cell_type": "code",
   "execution_count": 156,
   "metadata": {},
   "outputs": [
    {
     "name": "stdout",
     "output_type": "stream",
     "text": [
      "1 -> 2 -> 3 -> 4 -> 5 -> 6 -> 7 -> None\n"
     ]
    }
   ],
   "source": [
    "A = SignleLinkedList()\n",
    "\n",
    "for _ in range(1,8):\n",
    "    A.pushback(_)\n",
    "    \n",
    "result = '<'\n",
    "\n",
    "i = 1 \n",
    "cnt = 0 \n",
    "\n",
    "while cnt < 7:\n",
    "    value = A.popfront()\n",
    "    if i % 3 != 0: # 만약 3번째 순서가 아니면 \n",
    "        A.pushback(value) # 첫 번째 배열에 있는 것을 pop 시킨 후 마지막 배열에 insert \n",
    "    if i % 3 == 0: # 만약 3번째 순서라면 result에 mapping  \n",
    "        if cnt != 6:\n",
    "            result += str(value) + ', '\n",
    "        else:\n",
    "            result += str(value)\n",
    "        cnt += 1 \n",
    "    i += 1 \n",
    "\n",
    "print(result +'>')"
   ]
  },
  {
   "cell_type": "code",
   "execution_count": 157,
   "metadata": {},
   "outputs": [
    {
     "name": "stdout",
     "output_type": "stream",
     "text": [
      "<3, 6, 2, 7, 5, 1, 4>\n"
     ]
    }
   ],
   "source": []
  },
  {
   "cell_type": "code",
   "execution_count": 145,
   "metadata": {},
   "outputs": [
    {
     "name": "stdout",
     "output_type": "stream",
     "text": [
      "<3, 6, 2, 7, 5, 1, 4>\n"
     ]
    }
   ],
   "source": [
    "class SingleLinkedList:\n",
    "    class Node:\n",
    "        def __init__(self, data, next=None):\n",
    "            self.data = data\n",
    "            self.next = next\n",
    "\n",
    "    def __init__(self):\n",
    "        self.head = None\n",
    "        self.size = 0\n",
    "\n",
    "    def __len__(self):\n",
    "        return self.size\n",
    "\n",
    "    def pushback(self, data):\n",
    "        new_node = self.Node(data)\n",
    "        if self.size == 0:\n",
    "            self.head = new_node\n",
    "        else:\n",
    "            current = self.head\n",
    "            while current.next:\n",
    "                current = current.next\n",
    "            current.next = new_node\n",
    "        self.size += 1\n",
    "\n",
    "    def popfront(self):\n",
    "        if self.size == 0:\n",
    "            return None\n",
    "        data = self.head.data\n",
    "        self.head = self.head.next\n",
    "        self.size -= 1\n",
    "        return data\n",
    "\n",
    "    def display(self):\n",
    "        current = self.head\n",
    "        while current:\n",
    "            print(current.data, end=' -> ')\n",
    "            current = current.next\n",
    "        print('None')\n",
    "\n",
    "\n",
    "def josephus_permutation(N, K):\n",
    "    linked_list = SingleLinkedList()\n",
    "\n",
    "    for i in range(1, N + 1):\n",
    "        linked_list.pushback(i)\n",
    "\n",
    "    result = \"<\"\n",
    "    cnt = 0\n",
    "\n",
    "    while cnt < N:\n",
    "        for _ in range(K - 1):\n",
    "            linked_list.pushback(linked_list.popfront())\n",
    "        value = linked_list.popfront()\n",
    "        result += str(value)\n",
    "        cnt += 1\n",
    "        if cnt < N:\n",
    "            result += \", \"\n",
    "\n",
    "    result += \">\"\n",
    "    return result\n",
    "\n",
    "N,M = map(int,input().split())\n",
    "result = josephus_permutation(N, M)\n",
    "print(result)"
   ]
  },
  {
   "cell_type": "code",
   "execution_count": 66,
   "metadata": {},
   "outputs": [
    {
     "name": "stdout",
     "output_type": "stream",
     "text": [
      "1 -> 2 -> 3 -> None\n"
     ]
    }
   ],
   "source": [
    "A = SignleLinkedList()\n",
    "\n",
    "A.pushback(1)\n",
    "A.pushback(2)\n",
    "A.pushback(3)\n",
    "\n",
    "A.display()"
   ]
  },
  {
   "attachments": {},
   "cell_type": "markdown",
   "metadata": {},
   "source": [
    "# **양방향 연결리스트**"
   ]
  },
  {
   "attachments": {},
   "cell_type": "markdown",
   "metadata": {},
   "source": [
    "* 어떤 값을 insert 하거나 delete 할 때 단방향 연결리스트보다 빠르게 접근 할 수 있다.\n",
    "* 하지만 관리해야 할 node 의 개수가 늘어나 복잡도가 늘어남 "
   ]
  },
  {
   "cell_type": "code",
   "execution_count": 11,
   "metadata": {},
   "outputs": [],
   "source": [
    "class Node:\n",
    "    \n",
    "    def __init__(self,data = None):\n",
    "        # 기존 dummy node 를 만들 때 next 와 prev 는 자신을 가르키도록 만든다\n",
    "        self.data = data\n",
    "        self.next = self \n",
    "        self.prev = self "
   ]
  },
  {
   "cell_type": "code",
   "execution_count": 18,
   "metadata": {},
   "outputs": [],
   "source": [
    "class CircularyDoublyLinkedList:\n",
    "    \n",
    "    class Node:\n",
    "        '''\n",
    "        기존 비어있는 node 를 생성할 때 쓰이는 생성자\n",
    "        next,prev 모두 None인 node 생성 \n",
    "        '''\n",
    "        def __init__(self,data = None,next = None, prev = None):\n",
    "            \n",
    "            self.data = data\n",
    "            self.next = next\n",
    "            self.prev = prev \n",
    "            \n",
    "    def __init__(self):\n",
    "        self.head = self.Node() # 맨 처음 비어있는 dummy node를 head로 생성 \n",
    "        self.tail = None # 마지막 tail node 도 None 으로 생성 \n",
    "        self.size = 0\n",
    "        \n",
    "    def __iter__(self):\n",
    "        current = self.head \n",
    "        for _ in range(self.size):\n",
    "            yield current.data\n",
    "            current = current.next\n",
    "        \n",
    "    def pushfront(self,data):\n",
    "        \n",
    "        if self.size == 0: # 만약 빈 linkedlist 라면     \n",
    "            new_node = self.Node(data)\n",
    "            self.head = new_node\n",
    "            self.tail = self.head # 첫 번째 node 는 자기 자신을 가르키도록 \n",
    "        else:\n",
    "            new_node = self.Node(data = data, next = self.head, prev = self.tail) \n",
    "            # head 앞에 new_node 를 생성 할 때 생성 될 new_node 는 next 는 현재의 head를, prev 는 tail 을 가르키도록 생성\n",
    "            self.head.prev = new_node\n",
    "            self.head = new_node  \n",
    "            self.tail.next = self.head\n",
    "            \n",
    "        self.size += 1\n",
    "\n",
    "    def pushback(self,data):\n",
    "        \n",
    "        if self.size ==0:\n",
    "            new_node = self.Node(data = data)\n",
    "            self.head = new_node\n",
    "            self.tail = self.head \n",
    "        else:\n",
    "            new_node = self.Node(data = data, next = self.head, prev = self.tail)\n",
    "            self.tail.next = new_node \n",
    "            self.tail = self.tail.next # 현재의 tail 을 tail 의 next 로 변경 # new_node 가 self.tail.next \n",
    "            self.head.prev = new_node \n",
    "            \n",
    "        self.size += 1\n",
    "        \n",
    "    def popfront(self):\n",
    "        \n",
    "        if self.size == 0:\n",
    "            print('비어있어용!')\n",
    "        else:\n",
    "            current = self.head.next \n",
    "            self.tail.next = current\n",
    "            current.prev = self.tail\n",
    "            self.head = current\n",
    "            \n",
    "            self.size -= 1\n",
    "            del current\n",
    "            \n",
    "    def popback(self):\n",
    "        \n",
    "        if self.size == 0:\n",
    "            print('비어있어용 ! ')\n",
    "        else:\n",
    "            current = self.tail.prev\n",
    "            \n",
    "            current.next = self.head\n",
    "            current.prev = current.prev\n",
    "            \n",
    "            self.tail = current\n",
    "            \n",
    "            del current\n",
    "            \n",
    "            self.size -= 1\n",
    "            \n",
    "    def splice(self,a,b,x):\n",
    "        \n",
    "        ap = a.prev\n",
    "        bn = b.next \n",
    "        xn = x.next \n",
    "        \n",
    "        # cut \n",
    "        \n",
    "        x.next = a\n",
    "        a.prev = x\n",
    "        \n",
    "        b.next = xn\n",
    "        xn.prev = b\n",
    "        \n",
    "        ap.next = bn\n",
    "        bn.prev = ap\n",
    "        \n",
    "    def move_after(self,a,x): # a node 를 x node 다음으로 이동시키기 \n",
    "        \n",
    "        self.splice(a,a,x) # a 부터 a 까지 cut 해서 x 옆으로 이동시켜라 \n",
    "    \n",
    "    def move_before(self,a,x): # a node 를 x node 전으로 이동\n",
    "        \n",
    "        self.splice(a,a,x.prev) # x 의 prev 다음에 a를 splice 시킨 것을 이동 \n",
    "        \n",
    "    def insert_after(self,x,data): # x node 다음에 data 를 넣기\n",
    "        \n",
    "        self.move_after(self.Node(data, prev = x.prev),x) # x 옆에 새로운 node를 splice 해서 붙히기 \n",
    "        \n",
    "    def insert_before(self,x,data):\n",
    "        \n",
    "        self.move_before(Node(data),x.prev)\n",
    "        \n",
    "    def display(self):\n",
    "        \n",
    "        if self.size == 0:\n",
    "            print('비어있어용!')\n",
    "            \n",
    "        count = 0\n",
    "        current = self.head\n",
    "        while True:\n",
    "            print(current.data , end = ' -> ')\n",
    "            current = current.next \n",
    "            count += 1\n",
    "            \n",
    "            if current == self.head:\n",
    "                break\n",
    "            if count > self.size:\n",
    "                print(' List is Not circular')\n",
    "                break\n",
    "            \n",
    "        print(self.head.data,'-> ')"
   ]
  },
  {
   "attachments": {},
   "cell_type": "markdown",
   "metadata": {},
   "source": [
    "**Pushfront**"
   ]
  },
  {
   "cell_type": "code",
   "execution_count": 19,
   "metadata": {},
   "outputs": [
    {
     "name": "stdout",
     "output_type": "stream",
     "text": [
      "1 -> 2 -> 3 -> 1 -> \n"
     ]
    }
   ],
   "source": [
    "A = CircularyDoublyLinkedList()\n",
    "\n",
    "A.pushfront(3)\n",
    "A.pushfront(2)\n",
    "A.pushfront(1)\n",
    "\n",
    "A.display()"
   ]
  },
  {
   "attachments": {},
   "cell_type": "markdown",
   "metadata": {},
   "source": [
    "**Pushback**"
   ]
  },
  {
   "cell_type": "code",
   "execution_count": 20,
   "metadata": {},
   "outputs": [
    {
     "name": "stdout",
     "output_type": "stream",
     "text": [
      "1 -> 2 -> 3 -> 4 -> 5 -> 6 -> 1 -> \n"
     ]
    }
   ],
   "source": [
    "A.pushback(4)\n",
    "A.pushback(5)\n",
    "A.pushback(6)\n",
    "\n",
    "A.display()"
   ]
  },
  {
   "attachments": {},
   "cell_type": "markdown",
   "metadata": {},
   "source": [
    "**popfront**"
   ]
  },
  {
   "cell_type": "code",
   "execution_count": 21,
   "metadata": {},
   "outputs": [
    {
     "name": "stdout",
     "output_type": "stream",
     "text": [
      "2 -> 3 -> 4 -> 5 -> 6 -> 2 -> \n"
     ]
    }
   ],
   "source": [
    "A.popfront()\n",
    "A.display()"
   ]
  },
  {
   "attachments": {},
   "cell_type": "markdown",
   "metadata": {},
   "source": [
    "**popback**"
   ]
  },
  {
   "cell_type": "code",
   "execution_count": 22,
   "metadata": {},
   "outputs": [
    {
     "name": "stdout",
     "output_type": "stream",
     "text": [
      "2 -> 3 -> 4 -> 5 -> 2 -> \n"
     ]
    }
   ],
   "source": [
    "A.popback()\n",
    "A.display()"
   ]
  },
  {
   "attachments": {},
   "cell_type": "markdown",
   "metadata": {},
   "source": [
    "**Splice**"
   ]
  },
  {
   "cell_type": "code",
   "execution_count": 50,
   "metadata": {},
   "outputs": [
    {
     "name": "stdout",
     "output_type": "stream",
     "text": [
      "1 -> 2 -> 3 -> 4 -> 5 -> 6 -> 7 -> 8 -> 9 -> 10 -> 1 -> \n"
     ]
    }
   ],
   "source": [
    "A = CircularyDoublyLinkedList()\n",
    "\n",
    "for i in range(10,0,-1):\n",
    "    A.pushfront(i)\n",
    "    \n",
    "A.display()"
   ]
  },
  {
   "cell_type": "code",
   "execution_count": 47,
   "metadata": {},
   "outputs": [],
   "source": [
    "a = A.head.next # 2 부터\n",
    "b = A.head.next.next.next # 4까지를 cut 해서 \n",
    "\n",
    "x = A.head.next.next.next.next.next.next # 7 과 8 사이에 넣기 "
   ]
  },
  {
   "cell_type": "code",
   "execution_count": 48,
   "metadata": {},
   "outputs": [
    {
     "name": "stdout",
     "output_type": "stream",
     "text": [
      "1 -> 5 -> 6 -> 7 -> 2 -> 3 -> 4 -> 8 -> 9 -> 10 -> 1 -> \n"
     ]
    }
   ],
   "source": [
    "A.splice(a,b,x)\n",
    "\n",
    "A.display()"
   ]
  }
 ],
 "metadata": {
  "kernelspec": {
   "display_name": "base",
   "language": "python",
   "name": "python3"
  },
  "language_info": {
   "codemirror_mode": {
    "name": "ipython",
    "version": 3
   },
   "file_extension": ".py",
   "mimetype": "text/x-python",
   "name": "python",
   "nbconvert_exporter": "python",
   "pygments_lexer": "ipython3",
   "version": "3.9.13"
  },
  "orig_nbformat": 4
 },
 "nbformat": 4,
 "nbformat_minor": 2
}
