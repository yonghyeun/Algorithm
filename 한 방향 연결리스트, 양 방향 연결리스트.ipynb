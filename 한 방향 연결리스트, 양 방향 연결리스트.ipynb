{
 "cells": [
  {
   "cell_type": "markdown",
   "metadata": {},
   "source": [
    "# **연결리스트**"
   ]
  },
  {
   "cell_type": "code",
   "execution_count": 1,
   "metadata": {},
   "outputs": [],
   "source": [
    "class Node:\n",
    "    \n",
    "    def __init__(self, key = None):\n",
    "        \n",
    "        self.key = key\n",
    "        self.next = None \n",
    "        \n",
    "    def __str__(self):\n",
    "        return str(self.key) # node 를 print 하면 자동으로 node 의 key 값이 print 되도록 함 "
   ]
  },
  {
   "cell_type": "code",
   "execution_count": 2,
   "metadata": {},
   "outputs": [],
   "source": [
    "a = Node(key = 3)\n",
    "b = Node(key = 9)\n",
    "c = Node(key = -1)\n",
    "\n",
    "# key 값만 가지도록 먼저 Node 를 생성"
   ]
  },
  {
   "cell_type": "code",
   "execution_count": 3,
   "metadata": {},
   "outputs": [
    {
     "name": "stdout",
     "output_type": "stream",
     "text": [
      "3\n",
      "None\n"
     ]
    }
   ],
   "source": [
    "print(a)\n",
    "print(a.next)"
   ]
  },
  {
   "cell_type": "code",
   "execution_count": 4,
   "metadata": {},
   "outputs": [],
   "source": [
    "# Node 별 Next 를 지정해주자\n",
    "a.next = b \n",
    "b.next = c"
   ]
  },
  {
   "cell_type": "code",
   "execution_count": 5,
   "metadata": {},
   "outputs": [
    {
     "name": "stdout",
     "output_type": "stream",
     "text": [
      "3\n",
      "9\n",
      "-1\n",
      "None\n"
     ]
    }
   ],
   "source": [
    "print(a)\n",
    "print(a.next)\n",
    "print(a.next.next)\n",
    "print(a.next.next.next)"
   ]
  },
  {
   "cell_type": "code",
   "execution_count": 6,
   "metadata": {},
   "outputs": [],
   "source": [
    "class SinglyLinkedList:\n",
    "    \n",
    "    def __init__(self):\n",
    "        self.head = None\n",
    "        self.size = 0\n",
    "        \n",
    "    def __len__(self):\n",
    "        return self.size\n",
    "    \n",
    "        \n",
    "    def pushfront(self,key):\n",
    "        '''\n",
    "        현재 Head node 이전에  node 값을 연결시킴\n",
    "        '''\n",
    "        new_node = Node(key) # 새로운 node 를 new_node 로 생성\n",
    "        new_node.next = self.head # new_node 의 next 를 현재의 head 값으로 생성 \n",
    "        self.head = new_node # 현재 연결 리스트의 head 값을 new_node 로 생성 \n",
    "        self.size += 1 # node 가 추가되었으니 size 를 추가시켜줌 \n",
    "        \n",
    "    def pushback(self,key):\n",
    "        '''\n",
    "        현재 tail node 다음에 key 값을 집어넣음 \n",
    "        '''\n",
    "        new_node = Node(key)\n",
    "        \n",
    "        if len(self) == 0: # 만약 연결되어있는 node 가 없다면\n",
    "            self.head = new_node # 현재 head node 를 new_node 로 생성 \n",
    "        else: # 만약 이미 node 들이 존재한다면\n",
    "            \n",
    "            tail = self.head  # 현재의 head 부터\n",
    "            while tail.next != None: # next 값이 Node 일 때 까지 [tail node 까지 찾아감]\n",
    "                tail = tail.next # 아니면 tail 은 다음 node 로 연결시킴\n",
    "            tail.next = new_node # 진짜 tail node에서 추가된 node 를 tail node 로 연결시킴\n",
    "            \n",
    "        self.size  += 1 \n",
    "        \n",
    "    def popfront(self): # 현재의 head node 를 제거시킴\n",
    "        '''\n",
    "        head node 를 지우기 \n",
    "        '''\n",
    "        if len(self) == 0: # 만약 node 가 비어있으면\n",
    "            return None # Node 을 return \n",
    "        else: # 1개 이상의 node 가 존재한다면\n",
    "            x = self.head # 현재의 value 값 생성 \n",
    "            \n",
    "            key = x.key\n",
    "            \n",
    "            self.head = x.next # head 다음의 node 를 head 로 지정\n",
    "            self.size -= 1 # size 줄었으니 하나 줄여줘 \n",
    "            \n",
    "            del x # x 가 가르키고 있는 메모리의 주소를 삭제시킴 \n",
    "            return key \n",
    "            \n",
    "    def popback(self):\n",
    "        '''\n",
    "        tail node를 지우기\n",
    "        '''\n",
    "        \n",
    "        if len(self) == 0:\n",
    "            return None \n",
    "        else:\n",
    "            # running technique \n",
    "            prev,tail = None , self.head # prev 는 tail 이전 node \n",
    "            \n",
    "            while tail.next != None:\n",
    "                prev = tail \n",
    "                tail = tail.next # tail node 를 찾을 때 까지 한 칸씩 전진 \n",
    "            \n",
    "            if len(self) == 1: # 만약 안에 node 가 하나밖에 없으면\n",
    "                self.head = None # 다 비어버리니 head 는 None \n",
    "            else: # 만약 존재하면 \n",
    "                prev.next = tail.next # 현재의 prev 의 next 가 진짜 tail 의 next 가 되도록 지정 \n",
    "            key = tail.key # 현재 tail 의 key 값을 return 시키고 size 줄이기  \n",
    "            del tail \n",
    "            self.size -= 1 \n",
    "            return key \n",
    "                \n",
    "                \n",
    "    def search(self,key):\n",
    "        '''\n",
    "        연결 리스트 안에 해당 값이 존재하는지 찾는 함수 \n",
    "        '''\n",
    "        \n",
    "        v = self.head \n",
    "        \n",
    "        while v.next != None: # tail 까지 계속 찾아\n",
    "            if v.key == key: # 현재 node 의 key 값이 찾으려는 key 값과 같으면 \n",
    "                return v \n",
    "            else:\n",
    "                v = v.next # 다음 node 로 이동 \n",
    "        return None # 다 찾고나면 None 을 return \n",
    "                    # 아니면 그냥 break 해도 될지도\n",
    "                    \n",
    "    def __iter__(self): # 현재 class 를 iterator 로 사용할 때 \n",
    "        v = self.head \n",
    "        while v!= None:\n",
    "            yield v.key # yield 는 반복문이 돌아가면서 v 값을 return \n",
    "            v = v.next \n",
    "        # 전부 끝났으면\n",
    "        \n",
    "        return StopIteration # 반복을 멈춰 !             "
   ]
  },
  {
   "cell_type": "code",
   "execution_count": 7,
   "metadata": {},
   "outputs": [
    {
     "name": "stdout",
     "output_type": "stream",
     "text": [
      "현재 한방향 연결 리스트 안에 존재하는 Node 의 개수 0\n",
      "삽입 시작 \n",
      "\n",
      "\n",
      "삽입 완료\n",
      "현재 한방향 연결 리스트 안에 존재하는 Node 의 개수 3\n",
      "c -> b -> a -> None\n"
     ]
    }
   ],
   "source": [
    "L = SinglyLinkedList()\n",
    "print('현재 한방향 연결 리스트 안에 존재하는 Node 의 개수',L.size)\n",
    "print('삽입 시작 \\n\\n')\n",
    "# a,b,c 를 pushfront 를 이용해서 집어넣음\n",
    "L.pushfront('a')\n",
    "L.pushfront('b')\n",
    "L.pushfront('c')\n",
    "print('삽입 완료')\n",
    "print('현재 한방향 연결 리스트 안에 존재하는 Node 의 개수',L.size)\n",
    "\n",
    "for i in L:\n",
    "    print(i + ' -> ' , end = '')\n",
    "print('None')"
   ]
  },
  {
   "cell_type": "code",
   "execution_count": 8,
   "metadata": {},
   "outputs": [
    {
     "name": "stdout",
     "output_type": "stream",
     "text": [
      "현재 한방향 연결 리스트 안에 존재하는 Node 의 개수 0\n",
      "삽입 시작 \n",
      "\n",
      "\n",
      "삽입 완료\n",
      "현재 한방향 연결 리스트 안에 존재하는 Node 의 개수 3\n",
      "a -> b -> c -> None\n"
     ]
    }
   ],
   "source": [
    "L = SinglyLinkedList()\n",
    "print('현재 한방향 연결 리스트 안에 존재하는 Node 의 개수',L.size)\n",
    "print('삽입 시작 \\n\\n')\n",
    "# a,b,c 를 pushback 하여 집어 넣음 \n",
    "L.pushback('a')\n",
    "L.pushback('b')\n",
    "L.pushback('c')\n",
    "print('삽입 완료')\n",
    "print('현재 한방향 연결 리스트 안에 존재하는 Node 의 개수',L.size)\n",
    "\n",
    "for i in L:\n",
    "    print(i + ' -> ' , end = '')\n",
    "print('None')"
   ]
  },
  {
   "cell_type": "code",
   "execution_count": 9,
   "metadata": {},
   "outputs": [
    {
     "name": "stdout",
     "output_type": "stream",
     "text": [
      "b\n",
      "c\n"
     ]
    }
   ],
   "source": [
    "item = L.search('b')\n",
    "print(item.key) # b 를 search 하면 b 라는 Node 를 return 하게 \n",
    "print(item.next) # 현재 node 의 next link 가 무엇인지도 알려줘 "
   ]
  },
  {
   "cell_type": "code",
   "execution_count": 10,
   "metadata": {},
   "outputs": [
    {
     "name": "stdout",
     "output_type": "stream",
     "text": [
      "3\n",
      "c\n",
      "a\n",
      "1\n"
     ]
    }
   ],
   "source": [
    "print(L.size)\n",
    "\n",
    "tail = L.popback()\n",
    "print(tail)\n",
    "head = L.popfront()\n",
    "print(head)\n",
    "\n",
    "print(L.size)"
   ]
  },
  {
   "cell_type": "code",
   "execution_count": 11,
   "metadata": {},
   "outputs": [
    {
     "name": "stdout",
     "output_type": "stream",
     "text": [
      "None\n"
     ]
    }
   ],
   "source": [
    "item = L.search('없는 값')\n",
    "print(item) "
   ]
  },
  {
   "cell_type": "code",
   "execution_count": 12,
   "metadata": {},
   "outputs": [
    {
     "name": "stdout",
     "output_type": "stream",
     "text": [
      "b\n"
     ]
    }
   ],
   "source": [
    "for i in L:\n",
    "    print(i)"
   ]
  },
  {
   "cell_type": "markdown",
   "metadata": {},
   "source": [
    "# **원형 양방향 연결리스트**"
   ]
  },
  {
   "cell_type": "code",
   "execution_count": 13,
   "metadata": {},
   "outputs": [],
   "source": [
    "class Node:\n",
    "    \n",
    "    def __init__(self, key = None):\n",
    "        '''\n",
    "        원형 양방향 연결 리스트이기 때문에 \n",
    "        생성되는 node 들의 next , prev 는 본인을 지칭하도록 만듬\n",
    "        '''\n",
    "        self.key = key\n",
    "        self.next = self\n",
    "        self.prev = self\n",
    "        \n",
    "    def __str__(self):\n",
    "        return str(self.key)"
   ]
  },
  {
   "cell_type": "code",
   "execution_count": 14,
   "metadata": {},
   "outputs": [],
   "source": [
    "class DoublyLinkedList:\n",
    "    \n",
    "    def __init__(self):\n",
    "        \n",
    "        self.head = Node(key = None) # 맨 처음 Head node 로 dummy node 를 생성해주자\n",
    "        self.size = 0\n",
    "        \n",
    "    def __len__(self):\n",
    "        return self.size\n",
    "    \n",
    "\n",
    "    def splice(self,a,b,x): \n",
    "        '''\n",
    "        a,b,x = Node \n",
    "        \n",
    "        '''\n",
    "        \n",
    "        '''cut'''\n",
    "        ap = a.prev \n",
    "        bn = b.next \n",
    "        \n",
    "        ap.next = bn \n",
    "        bn.prev = ap \n",
    "        \n",
    "        '''붙여주기'''\n",
    "        xn = x.next\n",
    "        \n",
    "        x.next = a\n",
    "        a.prev = x\n",
    "        \n",
    "        xn.prev = b \n",
    "        b.next = xn\n",
    "    '''이동 연산'''\n",
    "    def moveAfter(self,a,x):\n",
    "        '''\n",
    "        a node 를 x node 다음으로 이동시키기 \n",
    "        '''\n",
    "        \n",
    "        self.splice(a,a,x) # a 부터 a 까지 cut 하여 x node 다음으로 붙이기 \n",
    "        \n",
    "    def moveBefore(self,a,x):\n",
    "        \n",
    "        self.splice(a,a,x.prev)\n",
    "    '''삽입 연산'''\n",
    "    def inserAfter(self,x,key):\n",
    "        '''\n",
    "        key node 를 x node 다음에 집어넣기\n",
    "        '''\n",
    "        self.moveAfter(Node(key),x)\n",
    "        self.size += 1\n",
    "        \n",
    "    def insertBefore(self,x,key):\n",
    "        '''\n",
    "        새로운 Node 를 만든 후 x 이전에 move 시킴 \n",
    "        '''\n",
    "        self.moveBefore(Node(key),x)\n",
    "        self.size += 1\n",
    "        \n",
    "    def pushFront(self,key):\n",
    "        self.inserAfter(self.head, Node(key))\n",
    "        self.size += 1\n",
    "        \n",
    "    def pushBack(self,key):\n",
    "        self.insertBefore(self.head, Node(key)) \n",
    "        self.size += 1\n",
    "        # head node 이전이 tail 이기 때문에 tail node 이전에 구현\n",
    "        \n",
    "    '''탐색 연산 '''\n",
    "        \n",
    "    def search(self,key):\n",
    "        v = self.head.next # dummy node의 next  \n",
    "        while v.next != self.head: # self.head 를 만날 때 까지 연산\n",
    "            if v.key == key:\n",
    "                return v\n",
    "            v = v.next\n",
    "        return None\n",
    "    '''삭제연산'''\n",
    "    def remove(self,x):\n",
    "        if x == self.head: \n",
    "            return None \n",
    "        \n",
    "        v = self.head.next\n",
    "        while v != self.head:\n",
    "            if v == x:\n",
    "                v.next.prev = v.prev \n",
    "                v.prev.next = v.next \n",
    "                result = v \n",
    "                del v \n",
    "                self.size -= 0\n",
    "                return result\n",
    "            else:\n",
    "                v = v.next \n",
    "        \n",
    "    def popFront(self):\n",
    "        if self.size == 0:\n",
    "            return None \n",
    "        else:\n",
    "            result = self.head.next\n",
    "            self.remove(result)\n",
    "            self.size -= 1\n",
    "            return result\n",
    "        \n",
    "    \n",
    "    def popBack(self):\n",
    "        if self.size == 0:\n",
    "            return None \n",
    "        else:\n",
    "            result = self.head.prev \n",
    "            self.remove(result)\n",
    "            self.size -= 1\n",
    "            return result\n",
    "        \n",
    "    def __iter__(self):\n",
    "        v = self.head.next \n",
    "        \n",
    "        while v != self.head:\n",
    "            yield v \n",
    "            v = v.next \n",
    "            \n",
    "        return StopIteration"
   ]
  },
  {
   "cell_type": "code",
   "execution_count": 15,
   "metadata": {},
   "outputs": [
    {
     "name": "stdout",
     "output_type": "stream",
     "text": [
      "c -> b -> a -> c\n"
     ]
    }
   ],
   "source": [
    "C = DoublyLinkedList()\n",
    "C.pushFront('a')\n",
    "C.pushFront('b')\n",
    "C.pushFront('c')\n",
    "\n",
    "for c in C:\n",
    "    print(c, end = ' -> ')\n",
    "    \n",
    "print(C.head.next)"
   ]
  },
  {
   "cell_type": "code",
   "execution_count": 16,
   "metadata": {},
   "outputs": [
    {
     "name": "stdout",
     "output_type": "stream",
     "text": [
      "a -> b -> c -> a\n"
     ]
    }
   ],
   "source": [
    "C = DoublyLinkedList()\n",
    "C.pushBack('a')\n",
    "C.pushBack('b')\n",
    "C.pushBack('c')\n",
    "\n",
    "for c in C:\n",
    "    print(c, end = ' -> ')\n",
    "    \n",
    "print(C.head.next)"
   ]
  },
  {
   "cell_type": "code",
   "execution_count": 17,
   "metadata": {},
   "outputs": [
    {
     "name": "stdout",
     "output_type": "stream",
     "text": [
      "a -> b -> c -> a\n",
      "popFront 한 이후\n",
      "b -> c -> b\n"
     ]
    }
   ],
   "source": [
    "C = DoublyLinkedList()\n",
    "C.pushBack('a')\n",
    "C.pushBack('b')\n",
    "C.pushBack('c')\n",
    "\n",
    "for c in C:\n",
    "    print(c, end = ' -> ')\n",
    "    \n",
    "print(C.head.next)\n",
    "C.popFront()\n",
    "print('popFront 한 이후')\n",
    "for c in C:\n",
    "    print(c, end = ' -> ')\n",
    "print(C.head.next)"
   ]
  },
  {
   "cell_type": "code",
   "execution_count": 18,
   "metadata": {},
   "outputs": [
    {
     "name": "stdout",
     "output_type": "stream",
     "text": [
      "a -> b -> c -> a\n",
      "popBack 한 이후\n",
      "a -> b -> a\n"
     ]
    }
   ],
   "source": [
    "C = DoublyLinkedList()\n",
    "C.pushBack('a')\n",
    "C.pushBack('b')\n",
    "C.pushBack('c')\n",
    "\n",
    "for c in C:\n",
    "    print(c, end = ' -> ')\n",
    "print(C.head.next)\n",
    "\n",
    "C.popBack()\n",
    "print('popBack 한 이후')\n",
    "for c in C:\n",
    "    print(c, end = ' -> ')\n",
    "print(C.head.next)"
   ]
  },
  {
   "cell_type": "markdown",
   "metadata": {},
   "source": [
    "# **예제 풀이**"
   ]
  },
  {
   "cell_type": "markdown",
   "metadata": {},
   "source": [
    "문제\n",
    "요세푸스 문제는 다음과 같다.\n",
    "\n",
    "1번부터 N번까지 N명의 사람이 원을 이루면서 앉아있고, 양의 정수 K(≤ N)가 주어진다. 이제 순서대로 K번째 사람을 제거한다. 한 사람이 제거되면 남은 사람들로 이루어진 원을 따라 이 과정을 계속해 나간다. 이 과정은 N명의 사람이 모두 제거될 때까지 계속된다. 원에서 사람들이 제거되는 순서를 (N, K)-요세푸스 순열이라고 한다. 예를 들어 (7, 3)-요세푸스 순열은 <3, 6, 2, 7, 5, 1, 4>이다.\n",
    "\n",
    "N과 K가 주어지면 (N, K)-요세푸스 순열을 구하는 프로그램을 작성하시오.\n",
    "\n",
    "입력\n",
    "첫째 줄에 N과 K가 빈 칸을 사이에 두고 순서대로 주어진다. (1 ≤ K ≤ N ≤ 5,000)\n",
    "\n",
    "출력\n",
    "예제와 같이 요세푸스 순열을 출력한다."
   ]
  },
  {
   "cell_type": "code",
   "execution_count": 203,
   "metadata": {},
   "outputs": [
    {
     "name": "stdout",
     "output_type": "stream",
     "text": [
      "<3, 6, 2, 7, 5, 1, 4>\n"
     ]
    }
   ],
   "source": [
    "class Node:\n",
    "    \n",
    "    def __init__(self,key):\n",
    "        self.key = key \n",
    "        self.next = None\n",
    "        self.prev = None\n",
    "        \n",
    "N,k = 7 , 3\n",
    "\n",
    "if N < 2:\n",
    "    print('<1>')\n",
    "else:\n",
    "\n",
    "    humans = [Node(i) for i in range(N)]\n",
    "\n",
    "    # 첫 번째 사람과 마지막 사람을 제외하고 앞 사람과 뒷 사람 연결시켜주기\n",
    "    for i in range(1, N-1):\n",
    "        humans[i].next = humans[i + 1]\n",
    "        humans[i].prev = humans[i - 1]\n",
    "\n",
    "    # 첫 번째 사람과 마지막 사람 연결시켜주기 \n",
    "\n",
    "    humans[0].next = humans[1]\n",
    "    humans[0].prev = humans[-1]\n",
    "    humans[-1].next = humans[0]\n",
    "    humans[-1].prev = humans[-2]   \n",
    "\n",
    "    result = []\n",
    "    target = humans[0] \n",
    "\n",
    "    while len(result) < N:\n",
    "        \n",
    "        for _ in range(k-1): # 2번의 이동을 거쳐야 함\n",
    "            target = target.next\n",
    "        result.append(str(target.key + 1)) # 죽을 사람 죽여 ~~ 0번째부터 사람부터 시작하니 + 1\n",
    "        target.prev.next = target.next \n",
    "        target.next.prev = target.prev \n",
    "        \n",
    "        target = target.next # 죽었으니 그 사람 빼고 시작하자고 \n",
    "        \n",
    "    print('<' + ', '.join(result)+'>')"
   ]
  }
 ],
 "metadata": {
  "kernelspec": {
   "display_name": "yongnaconda",
   "language": "python",
   "name": "python3"
  },
  "language_info": {
   "codemirror_mode": {
    "name": "ipython",
    "version": 3
   },
   "file_extension": ".py",
   "mimetype": "text/x-python",
   "name": "python",
   "nbconvert_exporter": "python",
   "pygments_lexer": "ipython3",
   "version": "3.11.5"
  }
 },
 "nbformat": 4,
 "nbformat_minor": 2
}
