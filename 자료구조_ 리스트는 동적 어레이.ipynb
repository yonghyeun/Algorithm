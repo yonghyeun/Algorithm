{
 "cells": [
  {
   "cell_type": "code",
   "execution_count": 77,
   "metadata": {},
   "outputs": [],
   "source": [
    "class LIST:\n",
    "    \n",
    "    def __init__(self,A = None):\n",
    "        # 함수를 처음 실행 할 때 A 라는 빈 리스트 생성 \n",
    "        if A == None:\n",
    "            # 빈 공간을 표기하기 위해 0을 채워 넣었다.\n",
    "            self.A = [0,0,0]\n",
    "            \n",
    "        self.capacity = self.A.count(0) # 빈 공간의 개수 \n",
    "        self.N = 0 # 현재 들어와있는 변수 \n",
    "        \n",
    "    def APPEND(self,x):\n",
    "        \n",
    "            \n",
    "        print('현재 리스트의 용량은 {} , 들어와있는 객체 개수는 {}\\n'.format(self.capacity,self.N))\n",
    "        \n",
    "        self.x = x\n",
    "        # 만일 N 이 capacity 보다 작다면 N 번째 인덱스에 x값 추가 \n",
    "        \n",
    "        if self.N < self.capacity:\n",
    "            self.A[self.N] = self.x\n",
    "            self.N += 1 # 들어와있는 객체 개수 증가 \n",
    "            \n",
    "            print('리스트는 : {} 용량 : {} 객체 개수 : {}\\n'.format(self.A,self.capacity,self.N))\n",
    "            \n",
    "        elif self.N == self.capacity: # 만일 객체 개수의 빈공간의 개수가 같다면\n",
    "            \n",
    "            print('리스트의 빈 용량이 부족해 새로운 리스트를 생성하겠습니다.')\n",
    "            \n",
    "            self.B = [0,0,0] * 2 # 기존 용량보다 두 배 큰 새로운 리스트 생성\n",
    "            self.capacity = self.B.count(0)\n",
    "            \n",
    "            for i in range(self.N):\n",
    "                \n",
    "                self.B[i] = self.A[i] # B list 에 A list 의 값들을 추가시켜주고 \n",
    "    \n",
    "            del self.A # 기존 리스트 삭제\n",
    "            \n",
    "            self.A = self.B # 새로 만든 리스트를 A 리스트에 다시 할당 \n",
    "            print('자리를 늘린 리스트 {}'.format(self.A))\n",
    "            \n",
    "\n",
    "            self.A[self.N] = self.x \n",
    "            self.N += 1 \n",
    "            print('용량 : {} 객체 개수 : {}'.format(self.capacity,self.N))\n",
    "            \n",
    "            print(self.A)\n",
    "\n",
    "            "
   ]
  },
  {
   "cell_type": "code",
   "execution_count": 78,
   "metadata": {},
   "outputs": [
    {
     "name": "stdout",
     "output_type": "stream",
     "text": [
      "현재 리스트의 형태는[0, 0, 0]\n",
      "현재 리스트의 용량은 3 , 들어와있는 객체 개수는 0\n"
     ]
    }
   ],
   "source": [
    "# 리스트를 생성하면 \n",
    "ex = LIST()\n",
    "\n",
    "print('현재 리스트의 형태는{}'.format(ex.A))\n",
    "print('현재 리스트의 용량은 {} , 들어와있는 객체 개수는 {}'.format(ex.capacity,ex.N))"
   ]
  },
  {
   "cell_type": "code",
   "execution_count": 79,
   "metadata": {},
   "outputs": [
    {
     "name": "stdout",
     "output_type": "stream",
     "text": [
      "현재 리스트의 용량은 3 , 들어와있는 객체 개수는 0\n",
      "\n",
      "리스트는 : ['가', 0, 0] 용량 : 3 객체 개수 : 1\n",
      "\n",
      "현재 리스트의 용량은 3 , 들어와있는 객체 개수는 1\n",
      "\n",
      "리스트는 : ['가', '나', 0] 용량 : 3 객체 개수 : 2\n",
      "\n",
      "현재 리스트의 용량은 3 , 들어와있는 객체 개수는 2\n",
      "\n",
      "리스트는 : ['가', '나', '다'] 용량 : 3 객체 개수 : 3\n",
      "\n"
     ]
    }
   ],
   "source": [
    "ex.APPEND('가')\n",
    "ex.APPEND('나')\n",
    "ex.APPEND('다')"
   ]
  },
  {
   "cell_type": "code",
   "execution_count": 80,
   "metadata": {},
   "outputs": [
    {
     "name": "stdout",
     "output_type": "stream",
     "text": [
      "현재 리스트의 용량은 3 , 들어와있는 객체 개수는 3\n",
      "\n",
      "리스트의 빈 용량이 부족해 새로운 리스트를 생성하겠습니다.\n",
      "자리를 늘린 리스트 ['가', '나', '다', 0, 0, 0]\n",
      "용량 : 6 객체 개수 : 4\n",
      "['가', '나', '다', '라', 0, 0]\n"
     ]
    }
   ],
   "source": [
    "ex.APPEND('라')"
   ]
  }
 ],
 "metadata": {
  "kernelspec": {
   "display_name": "base",
   "language": "python",
   "name": "python3"
  },
  "language_info": {
   "codemirror_mode": {
    "name": "ipython",
    "version": 3
   },
   "file_extension": ".py",
   "mimetype": "text/x-python",
   "name": "python",
   "nbconvert_exporter": "python",
   "pygments_lexer": "ipython3",
   "version": "3.9.13"
  },
  "orig_nbformat": 4
 },
 "nbformat": 4,
 "nbformat_minor": 2
}
