{
 "cells": [
  {
   "attachments": {},
   "cell_type": "markdown",
   "metadata": {},
   "source": [
    "### Iterator \n",
    "\n",
    "**iter() 와 next()**"
   ]
  },
  {
   "attachments": {},
   "cell_type": "markdown",
   "metadata": {},
   "source": [
    "1. iteratable 한 변수 \n",
    "    - 반복 가능한 객체로 순서형 및 컬렉션 데이터 타입, 파일 등을 의미한다 \n",
    "    - 반복 가능한 객체는 한 시점에서 해당 객체를 하낳나 리턴 할 수 있음으로 반복문이 사용 가능 \n",
    "\n",
    "2. iterator \n",
    "    - iterator 란 객체의 한 종류로 iterable 한 객체가 iter() 함수를 통해 iterator 객체로 생성 된 것 "
   ]
  },
  {
   "cell_type": "code",
   "execution_count": 1,
   "metadata": {},
   "outputs": [
    {
     "name": "stdout",
     "output_type": "stream",
     "text": [
      "<class 'str_iterator'>\n",
      "<class 'dict_keyiterator'>\n",
      "<class 'list_iterator'>\n",
      "<class 'tuple_iterator'>\n",
      "<class 'range_iterator'>\n"
     ]
    }
   ],
   "source": [
    "# iteratble 한 변수 \n",
    "\n",
    "str_var = '가나다라마바사'\n",
    "dic_var = {'가':1,'나':2}\n",
    "list_var = [1,2,3,4,5]\n",
    "tuple_var = (1,2,3,4,5)\n",
    "range_var = range(10)\n",
    "\n",
    "iteratable_var = [str_var,dic_var,list_var,tuple_var,range_var]\n",
    "\n",
    "for iter_var in iteratable_var:\n",
    "    \n",
    "    iterator = iter(iter_var) # iter() 를 통해 iterator 객체로 생성 \n",
    "    \n",
    "    print(type(iterator)) "
   ]
  },
  {
   "attachments": {},
   "cell_type": "markdown",
   "metadata": {},
   "source": [
    "- iter()로 만든 iterator 객체는 한 번에 하나씩 그 객체의 element, member 를 순서대로 엑세스 할 수 있는 개체 \n",
    "- 자체적으로 인덱싱이 불가한 객체도 iterable 하다 (set과 같은 ) \n",
    "    - ex : iter(set([1,2,3,4,5])) * set 은 데이터를 인덱싱이 불가하다 "
   ]
  },
  {
   "attachments": {},
   "cell_type": "markdown",
   "metadata": {},
   "source": [
    "- next() 함수는 next() 함수를 통해 해당 iterator 객체의 \\__next__() method에 접근하여 가져올 수 있다 "
   ]
  },
  {
   "cell_type": "code",
   "execution_count": 2,
   "metadata": {},
   "outputs": [
    {
     "name": "stdout",
     "output_type": "stream",
     "text": [
      "가 나 다 라 마 바 사 "
     ]
    }
   ],
   "source": [
    "x = ['가','나','다','라','마','바','사']\n",
    "\n",
    "iterator = iter(x)\n",
    "\n",
    "for num in range(len(x)):\n",
    "    \n",
    "    # next() 를 통해서 iterator 객체에 들어있는 변수를 순서대로 불러온다\n",
    "\n",
    "    print(next(iterator), end = ' ')    "
   ]
  },
  {
   "cell_type": "code",
   "execution_count": 3,
   "metadata": {},
   "outputs": [
    {
     "name": "stdout",
     "output_type": "stream",
     "text": [
      "가 나 다 라 마 바 사 "
     ]
    },
    {
     "ename": "StopIteration",
     "evalue": "",
     "output_type": "error",
     "traceback": [
      "\u001b[1;31m---------------------------------------------------------------------------\u001b[0m",
      "\u001b[1;31mStopIteration\u001b[0m                             Traceback (most recent call last)",
      "\u001b[1;32m~\\AppData\\Local\\Temp\\ipykernel_32200\\912944013.py\u001b[0m in \u001b[0;36m<module>\u001b[1;34m\u001b[0m\n\u001b[0;32m      8\u001b[0m \u001b[1;32mwhile\u001b[0m \u001b[1;32mTrue\u001b[0m\u001b[1;33m:\u001b[0m\u001b[1;33m\u001b[0m\u001b[1;33m\u001b[0m\u001b[0m\n\u001b[0;32m      9\u001b[0m \u001b[1;33m\u001b[0m\u001b[0m\n\u001b[1;32m---> 10\u001b[1;33m     \u001b[0mprint\u001b[0m\u001b[1;33m(\u001b[0m\u001b[0mnext\u001b[0m\u001b[1;33m(\u001b[0m\u001b[0miterator\u001b[0m\u001b[1;33m)\u001b[0m\u001b[1;33m,\u001b[0m\u001b[0mend\u001b[0m \u001b[1;33m=\u001b[0m \u001b[1;34m' '\u001b[0m\u001b[1;33m)\u001b[0m\u001b[1;33m\u001b[0m\u001b[1;33m\u001b[0m\u001b[0m\n\u001b[0m",
      "\u001b[1;31mStopIteration\u001b[0m: "
     ]
    }
   ],
   "source": [
    "# iterator 는 next() 로 모든 객체를 불러오고 나면 next 로 불러올 객체가 없다 \n",
    "    # 그러므로 iteration 이 끝나면 오류가 나지 않도록 예외 처리를 해줘야 한다 \n",
    "    \n",
    "x = ['가','나','다','라','마','바','사']\n",
    "\n",
    "iterator = iter(x)\n",
    "\n",
    "while True:\n",
    "    \n",
    "    print(next(iterator),end = ' ')"
   ]
  },
  {
   "cell_type": "code",
   "execution_count": null,
   "metadata": {},
   "outputs": [
    {
     "name": "stdout",
     "output_type": "stream",
     "text": [
      "가 나 다 라 마 바 사 \n",
      "끝! \n"
     ]
    }
   ],
   "source": [
    "# iterator 는 next() 로 모든 객체를 불러오고 나면 next 로 불러올 객체가 없다 \n",
    "    # 그러므로 iteration 이 끝나면 오류가 나지 않도록 예외 처리를 해줘야 한다 \n",
    "    \n",
    "x = ['가','나','다','라','마','바','사']\n",
    "\n",
    "iterator = iter(x)\n",
    "\n",
    "while True:\n",
    "    \n",
    "    try: # 오류가 안나면 계속 가져와라\n",
    "        print(next(iterator), end = ' ')\n",
    "    except StopIteration: # StopIteration 오류가 나면 \n",
    "        \n",
    "        print('\\n끝! ') \n",
    "        break # while 문을 끝내라  "
   ]
  },
  {
   "cell_type": "code",
   "execution_count": 4,
   "metadata": {},
   "outputs": [
    {
     "name": "stdout",
     "output_type": "stream",
     "text": [
      "가 나 다 라 마 바 사 "
     ]
    }
   ],
   "source": [
    "x = ['가','나','다','라','마','바','사']\n",
    "\n",
    "iterator = iter(x)\n",
    "\n",
    "# iterator 는 iteratable 한 객체를 가지고 있는 객체이므로 반복문이 가능하다 \n",
    "\n",
    "for data in iterator:\n",
    "    \n",
    "    print(data, end = ' ')"
   ]
  },
  {
   "cell_type": "code",
   "execution_count": 5,
   "metadata": {},
   "outputs": [
    {
     "ename": "TypeError",
     "evalue": "object of type 'list_iterator' has no len()",
     "output_type": "error",
     "traceback": [
      "\u001b[1;31m---------------------------------------------------------------------------\u001b[0m",
      "\u001b[1;31mTypeError\u001b[0m                                 Traceback (most recent call last)",
      "\u001b[1;32m~\\AppData\\Local\\Temp\\ipykernel_32200\\644240496.py\u001b[0m in \u001b[0;36m<module>\u001b[1;34m\u001b[0m\n\u001b[0;32m      1\u001b[0m \u001b[1;31m# 하지만 인덱싱이나 길이를 재는 것은 불가능하다\u001b[0m\u001b[1;33m\u001b[0m\u001b[1;33m\u001b[0m\u001b[0m\n\u001b[0;32m      2\u001b[0m \u001b[1;33m\u001b[0m\u001b[0m\n\u001b[1;32m----> 3\u001b[1;33m \u001b[0mlen\u001b[0m\u001b[1;33m(\u001b[0m\u001b[0miterator\u001b[0m\u001b[1;33m)\u001b[0m\u001b[1;33m\u001b[0m\u001b[1;33m\u001b[0m\u001b[0m\n\u001b[0m",
      "\u001b[1;31mTypeError\u001b[0m: object of type 'list_iterator' has no len()"
     ]
    }
   ],
   "source": [
    "# 하지만 인덱싱이나 길이를 재는 것은 불가능하다\n",
    "\n",
    "len(iterator)"
   ]
  },
  {
   "attachments": {},
   "cell_type": "markdown",
   "metadata": {},
   "source": [
    "**iterator 객체는 한 번 엑세스 되면 더 이상 사용 할 수 없게 되어 그 데이터는 폐기된다.**\n",
    "\n",
    "- 이는 데이터 리소스를 효율적으로 사용 할 수 있게 만든다 "
   ]
  },
  {
   "attachments": {},
   "cell_type": "markdown",
   "metadata": {},
   "source": [
    "* 전체 데이터 규모가 커서 한 꺼번에 처리가 어려워 하나씩 순서대로 처리하여 메모리 효율을 높이거나, \n",
    "* 무한 반복과 비슷한 경우의 프로그램 처리에 유용하다"
   ]
  },
  {
   "attachments": {},
   "cell_type": "markdown",
   "metadata": {},
   "source": [
    "# Generator 함수와 yield 명령어 및 next()"
   ]
  },
  {
   "attachments": {},
   "cell_type": "markdown",
   "metadata": {},
   "source": [
    "1. generator\n",
    "\n",
    "- generator iterator를 돌려주는 함수로 일반 함수처럼 보이나, 일련의 값을 만드는\n",
    "- yield 표현식을 포함한다는 점이 다르다 \n",
    "- for loop 를 이용하거나 next() 함수로 한 번에 하나씩 꺼낼 수 있음 \n",
    "\n",
    "\n",
    "2. generator iterator\n",
    "\n",
    "- generator 함수가 만드는 객체 \n",
    "- 각 yield는 일시적으로 처리를 중단하고 그 위치의 실행 상태를 기억한다.\n",
    "- 이후 generator iterator가 재개되면 떠난 곳으로 복귀한다 \n",
    "- 호출마다 새로 시작하는 함수와 대비됨"
   ]
  },
  {
   "cell_type": "code",
   "execution_count": 6,
   "metadata": {},
   "outputs": [
    {
     "name": "stdout",
     "output_type": "stream",
     "text": [
      "0,1,2,3,4,5,6,7,8,9,\n",
      " iteration 끝 !\n",
      "\n",
      "iteration 이 끝난 후에 iterator 를 실행하면 ?!\n"
     ]
    },
    {
     "ename": "StopIteration",
     "evalue": "",
     "output_type": "error",
     "traceback": [
      "\u001b[1;31m---------------------------------------------------------------------------\u001b[0m",
      "\u001b[1;31mStopIteration\u001b[0m                             Traceback (most recent call last)",
      "\u001b[1;32m~\\AppData\\Local\\Temp\\ipykernel_32200\\3707686090.py\u001b[0m in \u001b[0;36m<module>\u001b[1;34m\u001b[0m\n\u001b[0;32m     10\u001b[0m \u001b[1;33m\u001b[0m\u001b[0m\n\u001b[0;32m     11\u001b[0m \u001b[0mprint\u001b[0m\u001b[1;33m(\u001b[0m\u001b[1;34m'iteration 이 끝난 후에 iterator 를 실행하면 ?!'\u001b[0m\u001b[1;33m)\u001b[0m\u001b[1;33m\u001b[0m\u001b[1;33m\u001b[0m\u001b[0m\n\u001b[1;32m---> 12\u001b[1;33m \u001b[0mprint\u001b[0m\u001b[1;33m(\u001b[0m\u001b[0mnext\u001b[0m\u001b[1;33m(\u001b[0m\u001b[0miterator\u001b[0m\u001b[1;33m)\u001b[0m\u001b[1;33m)\u001b[0m\u001b[1;33m\u001b[0m\u001b[1;33m\u001b[0m\u001b[0m\n\u001b[0m",
      "\u001b[1;31mStopIteration\u001b[0m: "
     ]
    }
   ],
   "source": [
    "iterator = iter(range(10))\n",
    "\n",
    "while True:\n",
    "    \n",
    "    try:\n",
    "        print(next(iterator),end = ',')\n",
    "    except StopIteration:\n",
    "        print('\\n iteration 끝 !\\n')\n",
    "        break\n",
    "    \n",
    "print('iteration 이 끝난 후에 iterator 를 실행하면 ?!')\n",
    "print(next(iterator))"
   ]
  },
  {
   "cell_type": "code",
   "execution_count": 7,
   "metadata": {},
   "outputs": [],
   "source": [
    "def generator_example(x : range):\n",
    "    \n",
    "    for var in x:\n",
    "        \n",
    "        yield var"
   ]
  },
  {
   "cell_type": "code",
   "execution_count": 8,
   "metadata": {},
   "outputs": [
    {
     "name": "stdout",
     "output_type": "stream",
     "text": [
      "0,1,2,3,4,5,6,7,\n",
      " 반복문이 끝난 후 다시 실행하면\n",
      "8\n",
      "반복문이 끝난 후 suspend 되었던 변수가 다시 불러와짐\n",
      "\n",
      "모든 iteratable 변수가 사용 될 때 까지 print 해보자 \n",
      "9\n"
     ]
    },
    {
     "ename": "StopIteration",
     "evalue": "",
     "output_type": "error",
     "traceback": [
      "\u001b[1;31m---------------------------------------------------------------------------\u001b[0m",
      "\u001b[1;31mStopIteration\u001b[0m                             Traceback (most recent call last)",
      "\u001b[1;32m~\\AppData\\Local\\Temp\\ipykernel_32200\\732605378.py\u001b[0m in \u001b[0;36m<module>\u001b[1;34m\u001b[0m\n\u001b[0;32m     18\u001b[0m \u001b[0mprint\u001b[0m\u001b[1;33m(\u001b[0m\u001b[1;34m'모든 iteratable 변수가 사용 될 때 까지 print 해보자 '\u001b[0m\u001b[1;33m)\u001b[0m\u001b[1;33m\u001b[0m\u001b[1;33m\u001b[0m\u001b[0m\n\u001b[0;32m     19\u001b[0m \u001b[0mprint\u001b[0m\u001b[1;33m(\u001b[0m\u001b[0mnext\u001b[0m\u001b[1;33m(\u001b[0m\u001b[0mg\u001b[0m\u001b[1;33m)\u001b[0m\u001b[1;33m)\u001b[0m\u001b[1;33m\u001b[0m\u001b[1;33m\u001b[0m\u001b[0m\n\u001b[1;32m---> 20\u001b[1;33m \u001b[0mprint\u001b[0m\u001b[1;33m(\u001b[0m\u001b[0mnext\u001b[0m\u001b[1;33m(\u001b[0m\u001b[0mg\u001b[0m\u001b[1;33m)\u001b[0m\u001b[1;33m)\u001b[0m\u001b[1;33m\u001b[0m\u001b[1;33m\u001b[0m\u001b[0m\n\u001b[0m",
      "\u001b[1;31mStopIteration\u001b[0m: "
     ]
    }
   ],
   "source": [
    "# generator 는 yield로 객체를 return 시켜준다 \n",
    "# 하지만 일반적인 def 함수에서는 return 시킨 후 local value 를 삭제하지만 \n",
    "# generator의 yield 는 함수가 종료 되어도 local value 를 namespace 에 저장 \n",
    "# 함수의 종료가 아닌 연기된 (suspend) 것으로 간주\n",
    "# 다시 실행 할 경우 namepsace 에 있는 변수를 가져와 다시 실행\n",
    "\n",
    "# iter 와 같이 iteration이 끝나고 나면 StopIteration 오류가 발생한다 \n",
    "\n",
    "g = generator_example(range(10))\n",
    "\n",
    "for num in range(8):\n",
    "    \n",
    "    print(next(g), end = ',')\n",
    "    \n",
    "print('\\n 반복문이 끝난 후 다시 실행하면')\n",
    "print(next(g))\n",
    "print('반복문이 끝난 후 suspend 되었던 변수가 다시 불러와짐\\n')\n",
    "print('모든 iteratable 변수가 사용 될 때 까지 print 해보자 ')\n",
    "print(next(g))\n",
    "print(next(g))"
   ]
  },
  {
   "attachments": {},
   "cell_type": "markdown",
   "metadata": {},
   "source": [
    "* generator 함수를 왜 사용할까 ? \n",
    "\n",
    "- iter 와 같이 객체들이 한 번 모두 엑세스 되고 나면 폐기 됨으로 메모리 사용을 최적화 할 수 있음 \n",
    "- 따라서 무한 반복에 가까운 함수 기능을 실행하거나 대용량 메모리를 차지하는 데이터 또는 파일처리에 매우 유용 \n",
    "\n",
    "1. 대용량의 파일이 메모리 부족으로 load 가 안되는 경우 \n",
    "2. 대용량의 데이터가 메모리 부족으로 처리가 안되는 경우 \n",
    "3. 무한 반복의 함수 처리 시 \n",
    "\n",
    "4. 더욱이 generator 함수는 iterator 보다 훨씬 복잡한 프로그램 로직을 함수내에서 유연하게 구현 할 수 있다 "
   ]
  },
  {
   "attachments": {},
   "cell_type": "markdown",
   "metadata": {},
   "source": [
    "**리스트 컴프리헨션과 제네레이터 표현식 비교**"
   ]
  },
  {
   "cell_type": "code",
   "execution_count": 9,
   "metadata": {},
   "outputs": [
    {
     "name": "stdout",
     "output_type": "stream",
     "text": [
      "<class 'list'>\n",
      "<class 'generator'>\n"
     ]
    }
   ],
   "source": [
    "comprehension = [n for n in range(10) if n % 2 == 0]\n",
    "\n",
    "generator = (n for n in range(10) if n % 2 ==0)\n",
    "\n",
    "# generator 사용법은 리스트 컴프리헨션과 비슷하다\n",
    "\n",
    "print(type(comprehension))\n",
    "print(type(generator))"
   ]
  },
  {
   "cell_type": "code",
   "execution_count": 10,
   "metadata": {},
   "outputs": [
    {
     "data": {
      "text/plain": [
       "<generator object <genexpr> at 0x0000021E724CA740>"
      ]
     },
     "execution_count": 10,
     "metadata": {},
     "output_type": "execute_result"
    }
   ],
   "source": [
    "generator   # 하지만 lsit comprehension처럼 값이 담기는 것은 아니다 \n",
    "            # generator 의 object 로 반환된다 "
   ]
  },
  {
   "cell_type": "code",
   "execution_count": 11,
   "metadata": {},
   "outputs": [
    {
     "name": "stdout",
     "output_type": "stream",
     "text": [
      "0,2,4,6,8,\n",
      "iteration 끝 !\n",
      "\n"
     ]
    }
   ],
   "source": [
    "# generator 객체로서 반환 되기 때문에 next 를 통해 호출이 가능하다 \n",
    "# 또한 suspend 시키고 다시 불러오는 등의 행위도 가능하다 \n",
    "\n",
    "while True:\n",
    "    try:\n",
    "        print(next(generator), end = ',')\n",
    "    except StopIteration:\n",
    "        print('\\niteration 끝 !\\n')\n",
    "        break"
   ]
  },
  {
   "cell_type": "code",
   "execution_count": 12,
   "metadata": {},
   "outputs": [
    {
     "data": {
      "text/plain": [
       "(0, 2, 4, 6, 8)"
      ]
     },
     "execution_count": 12,
     "metadata": {},
     "output_type": "execute_result"
    }
   ],
   "source": [
    "generator = (n for n in range(10) if n % 2 ==0)\n",
    "\n",
    "tuple(generator) # 형 변환을 통해 가져오는 것도 가능 "
   ]
  },
  {
   "cell_type": "code",
   "execution_count": 13,
   "metadata": {},
   "outputs": [
    {
     "data": {
      "text/plain": [
       "[0, 2, 4, 6, 8]"
      ]
     },
     "execution_count": 13,
     "metadata": {},
     "output_type": "execute_result"
    }
   ],
   "source": [
    "generator = (n for n in range(10) if n % 2 ==0)\n",
    "\n",
    "list(generator) # 물론 list 형태로도 가능하다 "
   ]
  }
 ],
 "metadata": {
  "kernelspec": {
   "display_name": "base",
   "language": "python",
   "name": "python3"
  },
  "language_info": {
   "codemirror_mode": {
    "name": "ipython",
    "version": 3
   },
   "file_extension": ".py",
   "mimetype": "text/x-python",
   "name": "python",
   "nbconvert_exporter": "python",
   "pygments_lexer": "ipython3",
   "version": "3.9.13"
  },
  "orig_nbformat": 4
 },
 "nbformat": 4,
 "nbformat_minor": 2
}
