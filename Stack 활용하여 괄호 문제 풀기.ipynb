{
 "cells": [
  {
   "cell_type": "code",
   "execution_count": 12,
   "metadata": {},
   "outputs": [],
   "source": [
    "class Stack:\n",
    "    \n",
    "    def __init__(self):\n",
    "        self.items = []\n",
    "        \n",
    "    def push(self,val):\n",
    "        self.items.append(val)\n",
    "    \n",
    "    def pop(self):\n",
    "        '''\n",
    "        pop 은 마지막 value 값을 return 하고 해당 리스트에서 삭제 \n",
    "        '''\n",
    "        try:\n",
    "            return self.items.pop()\n",
    "        # 만일 불러올 값이 없다면 비어있다고 알려주기 \n",
    "        except IndexError:\n",
    "            print('Stack is Empty')\n",
    "            \n",
    "    def top(self):\n",
    "        '''\n",
    "        top 은 마지막 값을 return 하지만 리스트에서 삭제하지는 않음 \n",
    "        '''\n",
    "        try:\n",
    "            return self.itmes[-1]\n",
    "        except IndexError:\n",
    "            print('Stack is empty')\n",
    "\n",
    "    def __len__(self): # len() 으로 호출하면 stack의 item 수 반환\n",
    "        return len(self.items)\n"
   ]
  },
  {
   "attachments": {},
   "cell_type": "markdown",
   "metadata": {},
   "source": [
    "# 괄호 맞추기 예제 "
   ]
  },
  {
   "attachments": {},
   "cell_type": "markdown",
   "metadata": {},
   "source": [
    "문제 예시 : 괄호 맞추기 \n",
    "\n",
    "- 문제 \n",
    "\n",
    "- 입력 : 왼쪽과 오른쪽 괄호의 문자열이 주어진다 .\n",
    "- 출력: 괄호 쌍이 맞춰져있으면 True , 맞춰져있지 않다면 False \n",
    "\n",
    "ex : (()) → True , (())()() → True, ()()()) → False \n",
    "\n",
    "어떻게 풀어야 할까 ? \n",
    "\n",
    "key : 만약 (()()) 이란 괄호가 존재한다면 \n",
    "\n",
    "( 가 n 번 생성 됐으면 순차적으로 ) 도 최대 n 번 이하 존재해야 한다.\n",
    "\n",
    "> (( 가 두 번 발생했으니 stack 에 ( 를 차래대로 `push` → 이후 ) 가 나타나면 stack 에서 하나씩 ( 를 `pop`    한다.\n",
    " 만일 쌍이 맞는 괄호의 경우엔 itertaion 이 끝나면 stack의 길이는 0일 것이다. \n",
    "\n",
    " 만약 쌍이 맞지 않게 구성되어 있다면 \n",
    "\n",
    "1. 만일 (())) 일 경우엔 (( 가 두 번 pop 되고 난후 빈 stack에서 pop 하려 하니 error 가 발생 할 것이다. \n",
    "2. 만일 (() 일 경우엔 ( 가 한 번 pop 된 후 iteration이 끝났을 때 stack 엔 하나의 ( 가 여전히 존재 할 것이다."
   ]
  },
  {
   "cell_type": "code",
   "execution_count": 25,
   "metadata": {},
   "outputs": [
    {
     "name": "stdout",
     "output_type": "stream",
     "text": [
      "틀린 괄호쌍\n",
      "맞는 괄호쌍\n"
     ]
    }
   ],
   "source": [
    "string = input()\n",
    "\n",
    "stack = []\n",
    "\n",
    "for s in string:\n",
    "    if s == '(':\n",
    "        stack.append(s) # (가 들어올 경우엔 list 에 push\n",
    "    \n",
    "    # ) 가 들어올 경우엔 list 에서 pop    \n",
    "    else:\n",
    "        if len(stack) != 0:\n",
    "                \n",
    "            stack.pop() # ( 가 들어올 경우엔 마지막 value 를 pop\n",
    "        else:\n",
    "            print('틀린 괄호쌍')\n",
    "            break\n",
    "    \n",
    "# iteration 이 끝나면 맞는 괄호쌍일 경우엔 stack 이 비어있을 것이다.\n",
    "\n",
    "if len(stack) == 0:\n",
    "    print('맞는 괄호쌍')\n",
    "else:\n",
    "    print('틀린 괄호쌍')"
   ]
  },
  {
   "cell_type": "code",
   "execution_count": 35,
   "metadata": {},
   "outputs": [
    {
     "name": "stdout",
     "output_type": "stream",
     "text": [
      "NO\n",
      "NO\n",
      "YES\n",
      "NO\n",
      "YES\n",
      "NO\n"
     ]
    }
   ],
   "source": [
    "N = int(input())\n",
    "\n",
    "for trial in range(N):\n",
    "    \n",
    "    stack = [] \n",
    "    string = input()\n",
    "    \n",
    "    early_stop = 0\n",
    "    # 앞에서부터 탐색\n",
    "    for s in string:\n",
    "        \n",
    "        if s == '(':\n",
    "            stack.append(s) # ( 로 시작하면 append\n",
    "        else:\n",
    "            try:\n",
    "                stack.pop() # ) 로 시작하면 stack list에서 꺼내온다\n",
    "            except IndexError: # 꺼내올 (가 없다면 NO 출력\n",
    "                print('NO')\n",
    "                early_stop += 1  \n",
    "                break\n",
    "            \n",
    "    # Iteration 이 끝난 후 \n",
    "    \n",
    "    if early_stop > 0:\n",
    "        continue\n",
    "    else:\n",
    "        if len(stack) == 0 :\n",
    "            print('YES')\n",
    "        else:\n",
    "            print('NO')"
   ]
  }
 ],
 "metadata": {
  "kernelspec": {
   "display_name": "base",
   "language": "python",
   "name": "python3"
  },
  "language_info": {
   "codemirror_mode": {
    "name": "ipython",
    "version": 3
   },
   "file_extension": ".py",
   "mimetype": "text/x-python",
   "name": "python",
   "nbconvert_exporter": "python",
   "pygments_lexer": "ipython3",
   "version": "3.9.13"
  },
  "orig_nbformat": 4
 },
 "nbformat": 4,
 "nbformat_minor": 2
}
