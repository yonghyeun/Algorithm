{
 "cells": [
  {
   "attachments": {},
   "cell_type": "markdown",
   "metadata": {},
   "source": [
    "# **객체지향 프로그래밍 이해하기** "
   ]
  },
  {
   "attachments": {},
   "cell_type": "markdown",
   "metadata": {},
   "source": [
    "* **객체란**\n",
    "\n",
    "    * 속성과 행동으로 이루어진 것 \n",
    "\n",
    "* **객체지향 프로그래밍이란**\n",
    "    * 프로그램을 여러 개의 독립적인 객체들과 그 객체들 간의 삭호작용으로 파악하는 프로그램 접근법\n"
   ]
  },
  {
   "attachments": {},
   "cell_type": "markdown",
   "metadata": {},
   "source": [
    "# **파이썬에서 변수를 메모리에 할당하는 방법**"
   ]
  },
  {
   "attachments": {},
   "cell_type": "markdown",
   "metadata": {},
   "source": [
    "* 파이썬에는 변수를 메모리에 동적으로 할당한다. 이후 변수에 값을 할당하면 해당 값을 나타내는 개체를 만들고 변수에 대한 참조를 할당한다.\n",
    "    * 참조한다는 것은 값 자체를 직접 저장하는 것이 아니라 메모리에 할당 된 메모리 주소를 가리키게 된다. "
   ]
  },
  {
   "cell_type": "code",
   "execution_count": 38,
   "metadata": {},
   "outputs": [
    {
     "name": "stdout",
     "output_type": "stream",
     "text": [
      "<class 'list'>\n",
      "<class 'dict'>\n",
      "<class 'set'>\n",
      "<class 'tuple'>\n",
      "<class 'str'>\n",
      "<class 'int'>\n",
      "<class 'float'>\n"
     ]
    }
   ],
   "source": [
    "# 파이썬의 모든 변수들은 class 이다. \n",
    "\n",
    "print(type(list()))\n",
    "print(type(dict()))\n",
    "print(type(set()))\n",
    "print(type(tuple()))\n",
    "print(type(str()))\n",
    "print(type(int()))\n",
    "print(type(float()))"
   ]
  },
  {
   "cell_type": "code",
   "execution_count": 39,
   "metadata": {},
   "outputs": [
    {
     "name": "stdout",
     "output_type": "stream",
     "text": [
      "<class 'int'>\n",
      "2239528790608\n"
     ]
    }
   ],
   "source": [
    "# 10이란 변수를 a 객체에 할당하면 \n",
    "# 메모리에 int type 의 class 객체를 만든다.\n",
    "# 이후 a 라는 변수는 메모리에 할당 된 int type의 주소를 참조하는 변수가 된다.  \n",
    "\n",
    "a = 10 \n",
    "\n",
    "print(type(a))\n",
    "print(id(a))"
   ]
  },
  {
   "cell_type": "code",
   "execution_count": 40,
   "metadata": {},
   "outputs": [
    {
     "name": "stdout",
     "output_type": "stream",
     "text": [
      "2239528790608\n"
     ]
    }
   ],
   "source": [
    "# 내가 만약 다른 변수에도 10을 할당한다면 , a와 b 는 같은 메모리의 주소를 가르키고 있기 때문에 \n",
    "# 두 변수의 주소값은 같다\n",
    "\n",
    "b = 10\n",
    "\n",
    "print(id(b))"
   ]
  },
  {
   "attachments": {},
   "cell_type": "markdown",
   "metadata": {},
   "source": [
    "**결국 변수를 만든다는 것은 어떤 class 객체를 인스턴스화 하여 메모리에 할당하고 어떤 object에 그 객체의 참조를 할당하는 것이다**\n",
    "\n",
    "* 예를 들어 list 는  하나의 class 이다. \n",
    "* list() 로 class 를 선언하면 list() 객체는 메모리에 할당된다. \n",
    "* 이 때 메모리에 할당된 list() 는 참조 당할 수 있는 인스턴스가 되며, class 를 할당 할 수 있는 객체로 만드는 것이 인스턴스화이다. \n",
    "* 이러한 인스턴스는 변수에 저장 할 수 있는 개체가 된다. \n",
    "\n",
    "* 즉 a = list() 라는 변수를 설정한다면 변수를 선언 받는 과정은\n",
    "\n",
    "* 메모리에 list class 를 인스턴스화 시켜 메모리에 할당 시킨 후 a 라는 객체에 인스턴스화 된 list class 의 참조를 할당시킨다. "
   ]
  },
  {
   "attachments": {},
   "cell_type": "markdown",
   "metadata": {},
   "source": [
    "# **가변 객체와 불변 객체의 메모리 할당 방식 차이**"
   ]
  },
  {
   "attachments": {},
   "cell_type": "markdown",
   "metadata": {},
   "source": [
    "* Python에서 개체는 생성 후 수정 시 동작에 따라 변경 가능 또는 변경 불가능으로 분류할 수 있다. 변경 가능한 객체와 변경 불가능한 객체의 구분은 변수 간에 할당, 수정 및 공유하는 방법에 영향을 미치기 때문에 중요하다.\n",
    "\n",
    "\n",
    "### **불변 객체**\n",
    "\n",
    "* 변경 불가능한 객체는 생성된 후에 상태(보유하는 값)를 변경할 수 없는 객체이다. 불변 객체를 수정하는 것처럼 보이는 작업은 실제로는 수정된 값으로 새 객체를 생성한다.\n",
    "<blockquote style=\"border: 1px solid black; padding: 10px;\">\n",
    "숫자 (정수, 실수 등)</br>\n",
    "문자열</br>\n",
    "튜플</br>\n",
    "</blockquote>"
   ]
  },
  {
   "cell_type": "code",
   "execution_count": 12,
   "metadata": {},
   "outputs": [
    {
     "name": "stdout",
     "output_type": "stream",
     "text": [
      "10\n",
      "10\n",
      "30\n",
      "2530832312912\n",
      "2530832312912\n",
      "2530832313552\n"
     ]
    }
   ],
   "source": [
    "# a,b,c 란 변수에 int class 인 10을 할당 시켜보자 \n",
    "\n",
    "a = 10\n",
    "b = a \n",
    "c = 30 \n",
    "\n",
    "print(a)\n",
    "print(b)\n",
    "print(c)\n",
    "\n",
    "\n",
    "print(id(a))\n",
    "print(id(b))\n",
    "print(id(c))\n"
   ]
  },
  {
   "cell_type": "code",
   "execution_count": 13,
   "metadata": {},
   "outputs": [
    {
     "name": "stdout",
     "output_type": "stream",
     "text": [
      "20\n",
      "10\n",
      "2530832313232\n",
      "2530832312912\n"
     ]
    }
   ],
   "source": [
    "# 이 때 만약 a 의 값을 20으로 변경하게 되면 a 와 b 의 값은 어떻게 바뀌고 a 와 b 의 주소는 어떻게 바뀔까 ?\n",
    "\n",
    "\n",
    "# a 의 값은 20으로 변경했기에 메모리에 20이라는 인스턴스가 저장되고 해당 주소를 a 가 참조하게 되어 a 의 값과 주소는 바뀌게 된다.\n",
    "\n",
    "\n",
    "# 하지만 b의 값과 주소는 변경되지 않는데 b = a 라고 했다고 해서 b 가 a를 참조하는 것이 아닌 a 가 참조하고 있는 메모리의 주소를\n",
    "# 참조한 것이기에 b 는 a 의 수정되기 전 주소를 그대로 참조하고 있다.\n",
    "\n",
    "\n",
    "a = 20 \n",
    "\n",
    "print(a)\n",
    "print(b)\n",
    "\n",
    "print(id(a))\n",
    "print(id(b))"
   ]
  },
  {
   "attachments": {},
   "cell_type": "markdown",
   "metadata": {},
   "source": [
    "# **가변 변수**  \n",
    "\n",
    "* 가변 변수는 메모리 할당 방식이 다르게 작동한다\n",
    "\n",
    "1. 가변 변수에 값을 할당하면 가변 객체가 메모리에 생성된다.\n",
    "    1.1 만약 a,b 모두 [1,2,3,4,5], [1,2,3,4,5] 로 같은 값을 가지는 변수를 할당시켜도 각자 다른 메모리에 할당된다.\n",
    "        - 이 동작은 동일한 값을 가진 변수가 일반적으로 동일한 메모리 주소를 공유하는 변경 불가능한 변수와 다르다.\n",
    "2. 가변 변수에 이 개체에 대한 참조가 할당된다\n",
    "3. 이 때 할당된 변수에서 수정 작업을 시행하면 메모리에 할당 된 변수의 값을 수정하게 된다\n",
    "\n",
    "<blockquote style=\"border: 1px solid black; padding: 10px;\">\n",
    "list</br>\n",
    "dictionary</br>\n",
    "set</br>\n",
    "</blockquote>\n"
   ]
  },
  {
   "cell_type": "code",
   "execution_count": 100,
   "metadata": {},
   "outputs": [
    {
     "name": "stdout",
     "output_type": "stream",
     "text": [
      "2239614496384\n",
      "2239614491648\n"
     ]
    }
   ],
   "source": [
    "a = [1,2,3,4,5]\n",
    "b = [1,2,3,4,5]\n",
    "\n",
    "print(id(a))\n",
    "print(id(b))"
   ]
  },
  {
   "attachments": {},
   "cell_type": "markdown",
   "metadata": {},
   "source": [
    "* 세 변수 모두 같은 list 인 [1,2,3,4,5] 를 할당 시켰지만 각 리스트는 다른 메모리에 할당 되어있다 "
   ]
  },
  {
   "cell_type": "code",
   "execution_count": 101,
   "metadata": {},
   "outputs": [
    {
     "name": "stdout",
     "output_type": "stream",
     "text": [
      "[1, 2, 3, 4, 5, 10]\n",
      "[1, 2, 3, 4, 5]\n"
     ]
    }
   ],
   "source": [
    "a.append(10) # a 라는 list 에 10을 append 하면 a list 에 할당된 객체가 메모리 내에서 수정된다 \n",
    "\n",
    "print(a)\n",
    "print(b)"
   ]
  },
  {
   "cell_type": "code",
   "execution_count": 24,
   "metadata": {},
   "outputs": [
    {
     "name": "stdout",
     "output_type": "stream",
     "text": [
      "2530887394560\n",
      "2530887394560\n",
      "2530887534016\n"
     ]
    }
   ],
   "source": [
    "a = [1,2,3,4,5,'안녕']\n",
    "b = [1,2,3,4,5]\n",
    "\n",
    "# c = a 를 설정하게 되면 c 도 a 가 가르키고 있는 메모리 주소를 할당하게 된다 \n",
    "\n",
    "c = a\n",
    "print(id(a))\n",
    "print(id(c))\n",
    "\n",
    "print(id(b))"
   ]
  },
  {
   "cell_type": "code",
   "execution_count": 25,
   "metadata": {},
   "outputs": [
    {
     "name": "stdout",
     "output_type": "stream",
     "text": [
      "[1, 2, 3, 4, 5]\n",
      "[1, 2, 3, 4, 5]\n",
      "2530887394560\n",
      "2530887394560\n"
     ]
    }
   ],
   "source": [
    "# 이 때 a 가 가르키고 있는 객체를 수정하게 되면 c 객체도 수정된다 \n",
    "# 왜냐면 바뀐 값은 메모리에 저장된 변수를 변경시킨거기 때문이다 \n",
    "\n",
    "a.remove('안녕')\n",
    "\n",
    "print(a)\n",
    "print(c)\n",
    "\n",
    "print(id(a))\n",
    "print(id(c))"
   ]
  },
  {
   "cell_type": "code",
   "execution_count": 23,
   "metadata": {},
   "outputs": [
    {
     "name": "stdout",
     "output_type": "stream",
     "text": [
      "2530901136512\n"
     ]
    }
   ],
   "source": []
  },
  {
   "attachments": {},
   "cell_type": "markdown",
   "metadata": {},
   "source": [
    "# **Class**"
   ]
  },
  {
   "attachments": {},
   "cell_type": "markdown",
   "metadata": {},
   "source": [
    "# __1. Class 정의__ \n",
    "# **2. 속성**\n",
    "* 클래스의 각 인스턴스에 특정한 데이터를 보유하는 변수이다. 클래스에서 생성된 개체의 상태 또는 특성을 나타낸다 \n",
    "        "
   ]
  },
  {
   "cell_type": "code",
   "execution_count": 105,
   "metadata": {},
   "outputs": [],
   "source": [
    "class duck: # Class 정의 \n",
    "    pass    "
   ]
  },
  {
   "cell_type": "code",
   "execution_count": 110,
   "metadata": {},
   "outputs": [
    {
     "name": "stdout",
     "output_type": "stream",
     "text": [
      "2239614513888\n"
     ]
    }
   ],
   "source": [
    "a = duck() # class 를 instance 화 하여 메모리에 할당 후 a 변수는 해당 메모리 주소를 참조 \n",
    "print(id(a))"
   ]
  },
  {
   "cell_type": "code",
   "execution_count": 111,
   "metadata": {},
   "outputs": [],
   "source": [
    "class duck: # Class 정의 \n",
    "    name = ''\n",
    "    age = ''"
   ]
  },
  {
   "cell_type": "code",
   "execution_count": 113,
   "metadata": {},
   "outputs": [
    {
     "name": "stdout",
     "output_type": "stream",
     "text": [
      "구스\n",
      "27\n"
     ]
    }
   ],
   "source": [
    "a = duck() # duck 이란 class를 a에 참조를 할당\n",
    "\n",
    "a.name = '구스' # a 에게 할당된 인스턴스의 속성을 지정해줌 \n",
    "a.age = 27\n",
    "\n",
    "print(a.name)\n",
    "print(a.age)"
   ]
  },
  {
   "cell_type": "code",
   "execution_count": 130,
   "metadata": {},
   "outputs": [],
   "source": [
    "# Class 를 만들 때 속성을 기본으로 지정해줄 수 있다 \n",
    "\n",
    "class duck: \n",
    "    \n",
    "    # duck class 자체의 변수로 할당 시킬 필요가 없다 \n",
    "    # 즉 어떤 변수든 항상 공유할 속성을 의미한다 \n",
    "    maker = 'goosegooseman'\n",
    "    \n",
    "    def __init__(self,name,age): \n",
    "        # self 를 붙히는 이유는 duck class를 할당받은 속성을 수정하는 것이다 \n",
    "        self.name = name\n",
    "        self.age = age"
   ]
  },
  {
   "cell_type": "code",
   "execution_count": 131,
   "metadata": {},
   "outputs": [
    {
     "name": "stdout",
     "output_type": "stream",
     "text": [
      "김구스\n",
      "15\n",
      "goosegooseman\n"
     ]
    }
   ],
   "source": [
    "a = duck('김구스','15')\n",
    "\n",
    "print(a.name)\n",
    "print(a.age)\n",
    "print(a.maker)"
   ]
  },
  {
   "attachments": {},
   "cell_type": "markdown",
   "metadata": {},
   "source": [
    "# **3. Method**\n",
    "\n",
    "* Method 는 클래스 내에서 정의된 함수로 동작을 수행하거나 클래스에서 색성된 개채에 기능을 제공하는 역할을 한다 "
   ]
  },
  {
   "cell_type": "code",
   "execution_count": 141,
   "metadata": {},
   "outputs": [],
   "source": [
    "# Class 를 만들 때 속성을 기본으로 지정해줄 수 있다 \n",
    "\n",
    "class duck: \n",
    "    \n",
    "\n",
    "    maker = 'goosegooseman'\n",
    "    \n",
    "    def __init__(self,name,age): \n",
    "        self.name = name\n",
    "        self.age = age\n",
    "        \n",
    "    def voting(self): # Method \n",
    "                        # self를 붙혀 인스턴스의 속성 및 기타 메소드에 엑세스 할 수 있다 \n",
    "        print('니가 오리지')"
   ]
  },
  {
   "cell_type": "code",
   "execution_count": 142,
   "metadata": {},
   "outputs": [
    {
     "name": "stdout",
     "output_type": "stream",
     "text": [
      "니가 오리지\n"
     ]
    }
   ],
   "source": [
    "a = duck('김구스',15)\n",
    "\n",
    "a.voting()"
   ]
  },
  {
   "attachments": {},
   "cell_type": "markdown",
   "metadata": {},
   "source": [
    "# 3.1 **Magic Method**\n",
    "\n",
    "1. __new__(cls, *args, **kwargs): 이 메서드는 __init__이 호출되기 전에 클래스의 새 인스턴스를 생성하기 위해 호출됩니다. 클래스의 인스턴스 생성 및 반환을 담당합니다. 첫 번째 인수인 cls는 클래스 자체를 나타냅니다. 예: def __new__(cls, *args, **kwargs)<br><br>\n",
    "2. __init__(self, *args, **kwargs): __new__에 의해 인스턴스가 생성된 후 호출되는 생성자 메서드입니다. 객체의 속성을 초기화하는 데 사용됩니다. 첫 번째 인수 self는 클래스의 인스턴스를 나타냅니다. 예: def __init__(self, *args, **kwargs)<br><br>\n",
    "3. __str__(self): 이 메서드는 객체의 문자열 표현을 얻기 위해 내장 str() 함수와 print() 함수에 의해 호출됩니다. 사람이 읽을 수 있는 형식으로 개체를 나타내는 문자열을 반환해야 합니다. 예: def __str__(self)<br><br>\n",
    "4. __repr__(self): 이 메서드는 객체를 재생성하는 데 사용할 수 있는 객체의 문자열 표현을 얻기 위해 내장 repr() 함수에 의해 호출됩니다. 모호하지 않은 형식으로 개체를 나타내는 문자열을 반환해야 합니다. 예: def __repr__(self)<br><br>\n",
    "5. __del__(self): 이 메서드는 객체가 파괴되거나 가비지 수집되려고 할 때 호출됩니다. 개체가 메모리에서 제거되기 전에 필요한 정리 작업을 수행하는 데 사용됩니다. 예: def __del__(self)"
   ]
  },
  {
   "cell_type": "code",
   "execution_count": 267,
   "metadata": {},
   "outputs": [],
   "source": [
    "# Class 를 만들 때 속성을 기본으로 지정해줄 수 있다 \n",
    "\n",
    "class duck: \n",
    "    \n",
    "    maker = 'goosegooseman'\n",
    "    \n",
    "    # __new__ 는 class 가 생성 되었을 때의 method\n",
    "    # __new__ 는 __init__이 호출되기 전 호출된다  \n",
    "    # 또한 class 를 인스턴스화 할 때 두개의 변수를 할당 받기로 되어 있기 때문에 받는 변수를 작성해준다 \n",
    "    \n",
    "    def __new__(cls, *args): # cls 는 class 자체를 명명한다 \n",
    "        \n",
    "        print('Creating Class !! ')\n",
    "        instance = super().__new__(cls)\n",
    "        return instance\n",
    "    \n",
    "    # __init__ 은 인스턴스가 생성 된 후 호출되는 생성자 메소드\n",
    "    def __init__(self,name,age): \n",
    "        self.name = name\n",
    "        self.age = age\n",
    "    \n",
    "    # __str__ 은 내장 str() 함수와 print() 함수에 의해 호출된다\n",
    "    # 파이썬 내장 함수인 str 과 같은 class\n",
    "    # 사람이 읽을 수 있는 형식으로 개체를 나타내는 문자열을 반환한다 \n",
    "\n",
    "    def __str__(self):\n",
    "        return f'Duck: name={self.name}, age={self.age}'\n",
    "                \n",
    "    def voting(self): \n",
    "        print('니가 오리지')"
   ]
  },
  {
   "cell_type": "code",
   "execution_count": 279,
   "metadata": {},
   "outputs": [
    {
     "name": "stdout",
     "output_type": "stream",
     "text": [
      "Creating Class !! \n"
     ]
    }
   ],
   "source": [
    "# __new__ 로 인해 class 가 생성 될 때가 작동되었다  \n",
    "a = duck('김구스',15)"
   ]
  },
  {
   "cell_type": "code",
   "execution_count": 282,
   "metadata": {},
   "outputs": [
    {
     "name": "stdout",
     "output_type": "stream",
     "text": [
      "Duck: name=김구스, age=15\n"
     ]
    }
   ],
   "source": [
    "# __str__ 로 설정된 문자열이 return 된다 \n",
    "\n",
    "print(a)"
   ]
  },
  {
   "cell_type": "code",
   "execution_count": 304,
   "metadata": {},
   "outputs": [],
   "source": [
    "# Class 를 만들 때 속성을 기본으로 지정해줄 수 있다 \n",
    "\n",
    "class duck: \n",
    "    \n",
    "    maker = 'goosegooseman'\n",
    "    \n",
    "\n",
    "    \n",
    "    def __new__(cls, *args): \n",
    "        \n",
    "        print('Creating Class !! ')\n",
    "        instance = super().__new__(cls)\n",
    "        return instance\n",
    "    \n",
    "    def __init__(self,name,age): \n",
    "        self.name = name\n",
    "        self.age = age\n",
    "    \n",
    "    def __str__(self):\n",
    "        return f'Duck: name={self.name}, age={self.age}'\n",
    "    \n",
    "    # __repr__ 의 용도는 개체를 재생성하는데 사용할 수 있고 정확하고 모호하지 않은 문자열 표현을 제공해야 한다 \n",
    "    \n",
    "    \n",
    "    def __repr__(self):\n",
    "        return f'duck({self.name},{self.age})'\n",
    "        \n",
    "            \n",
    "    def voting(self): \n",
    "        print('니가 오리지')"
   ]
  },
  {
   "cell_type": "code",
   "execution_count": 305,
   "metadata": {},
   "outputs": [
    {
     "name": "stdout",
     "output_type": "stream",
     "text": [
      "Creating Class !! \n"
     ]
    }
   ],
   "source": [
    "a = duck('김구스',15)"
   ]
  },
  {
   "cell_type": "code",
   "execution_count": 309,
   "metadata": {},
   "outputs": [
    {
     "data": {
      "text/plain": [
       "'duck(김구스,15)'"
      ]
     },
     "execution_count": 309,
     "metadata": {},
     "output_type": "execute_result"
    }
   ],
   "source": [
    "repr(a)"
   ]
  }
 ],
 "metadata": {
  "kernelspec": {
   "display_name": "base",
   "language": "python",
   "name": "python3"
  },
  "language_info": {
   "codemirror_mode": {
    "name": "ipython",
    "version": 3
   },
   "file_extension": ".py",
   "mimetype": "text/x-python",
   "name": "python",
   "nbconvert_exporter": "python",
   "pygments_lexer": "ipython3",
   "version": "3.9.13"
  },
  "orig_nbformat": 4
 },
 "nbformat": 4,
 "nbformat_minor": 2
}
